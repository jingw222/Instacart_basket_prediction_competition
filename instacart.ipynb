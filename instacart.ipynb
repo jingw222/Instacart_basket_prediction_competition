{
 "cells": [
  {
   "cell_type": "markdown",
   "metadata": {},
   "source": [
    "# Load and transform raw data frames"
   ]
  },
  {
   "cell_type": "markdown",
   "metadata": {},
   "source": [
    "#### Initial loading"
   ]
  },
  {
   "cell_type": "code",
   "execution_count": 1,
   "metadata": {
    "collapsed": true
   },
   "outputs": [],
   "source": [
    "%matplotlib inline\n",
    "\n",
    "import pandas as pd\n",
    "import numpy as np\n",
    "import matplotlib.pyplot as plt\n",
    "import seaborn as sns\n",
    "\n",
    "import zipfile\n",
    "import gc\n",
    "\n",
    "pd.options.display.max_rows=200\n",
    "pd.options.display.max_columns=200\n",
    "\n",
    "pd.options.display.max_colwidth=100"
   ]
  },
  {
   "cell_type": "code",
   "execution_count": 2,
   "metadata": {
    "collapsed": true
   },
   "outputs": [
    {
     "name": "stderr",
     "output_type": "stream",
     "text": [
      "/home/jingw222/anaconda3/lib/python3.6/site-packages/rpy2/rinterface/__init__.py:186: RRuntimeWarning: Loading tidyverse: ggplot2\n",
      "Loading tidyverse: tibble\n",
      "Loading tidyverse: tidyr\n",
      "Loading tidyverse: readr\n",
      "Loading tidyverse: purrr\n",
      "Loading tidyverse: dplyr\n",
      "\n",
      "  warnings.warn(x, RRuntimeWarning)\n",
      "/home/jingw222/anaconda3/lib/python3.6/site-packages/rpy2/rinterface/__init__.py:186: RRuntimeWarning: Conflicts with tidy packages ---------------------------------------------------\n",
      "\n",
      "  warnings.warn(x, RRuntimeWarning)\n",
      "/home/jingw222/anaconda3/lib/python3.6/site-packages/rpy2/rinterface/__init__.py:186: RRuntimeWarning: filter(): dplyr, stats\n",
      "lag():    dplyr, stats\n",
      "\n",
      "  warnings.warn(x, RRuntimeWarning)\n"
     ]
    },
    {
     "data": {
      "text/plain": [
       "array(['dplyr', 'purrr', 'readr', 'tidyr', 'tibble', 'ggplot2',\n",
       "       'tidyverse', 'tools', 'stats', 'graphics', 'grDevices', 'utils',\n",
       "       'datasets', 'methods', 'base'],\n",
       "      dtype='<U9')"
      ]
     },
     "execution_count": 2,
     "metadata": {},
     "output_type": "execute_result"
    }
   ],
   "source": [
    "%load_ext rpy2.ipython\n",
    "%R library(tidyverse)"
   ]
  },
  {
   "cell_type": "code",
   "execution_count": 3,
   "metadata": {
    "collapsed": true
   },
   "outputs": [],
   "source": [
    "AISLES_FILE = 'aisles.csv'\n",
    "DEPART_FILE = 'departments.csv'\n",
    "ORDER_PRIOR_FILE = 'order_products__prior.csv'\n",
    "ORDER_TRAIN_FILE = 'order_products__train.csv'\n",
    "ORDERS_FILE = 'orders.csv'\n",
    "PRODUCTS_FILE = 'products.csv'\n",
    "\n",
    "dtypes = {'aisle_id': np.int16, 'department_id': np.int8, 'order_id': np.int32, 'product_id': np.int32, \n",
    "          'add_to_cart_order': np.int8, 'reordered': np.int8, 'user_id': np.int32, 'order_dow': np.int8,\n",
    "          'order_hour_of_day': np.int8, 'days_since_prior_order': np.float16, 'order_number': np.int16}\n",
    "\n",
    "def load_file(file, dtype=dtypes):\n",
    "    zf = zipfile.ZipFile('./data/' + file + '.zip')\n",
    "    if dtype is None:\n",
    "        df = pd.read_csv(zf.open(file))\n",
    "    else:\n",
    "        df = pd.read_csv(zf.open(file), dtype=dtype)\n",
    "    return df\n",
    "\n",
    "aisles = load_file(AISLES_FILE)\n",
    "depart = load_file(DEPART_FILE)\n",
    "ordprodp = load_file(ORDER_PRIOR_FILE)"
   ]
  },
  {
   "cell_type": "code",
   "execution_count": 3,
   "metadata": {
    "collapsed": true
   },
   "outputs": [],
   "source": [
    "ordprodt = load_file(ORDER_TRAIN_FILE)\n",
    "orders = load_file(ORDERS_FILE)\n",
    "products = load_file(PRODUCTS_FILE)"
   ]
  },
  {
   "cell_type": "code",
   "execution_count": 4,
   "metadata": {},
   "outputs": [
    {
     "data": {
      "text/html": [
       "<div>\n",
       "<style>\n",
       "    .dataframe thead tr:only-child th {\n",
       "        text-align: right;\n",
       "    }\n",
       "\n",
       "    .dataframe thead th {\n",
       "        text-align: left;\n",
       "    }\n",
       "\n",
       "    .dataframe tbody tr th {\n",
       "        vertical-align: top;\n",
       "    }\n",
       "</style>\n",
       "<table border=\"1\" class=\"dataframe\">\n",
       "  <thead>\n",
       "    <tr style=\"text-align: right;\">\n",
       "      <th></th>\n",
       "      <th>order_id</th>\n",
       "      <th>product_id</th>\n",
       "      <th>add_to_cart_order</th>\n",
       "      <th>reordered</th>\n",
       "    </tr>\n",
       "  </thead>\n",
       "  <tbody>\n",
       "    <tr>\n",
       "      <th>0</th>\n",
       "      <td>2</td>\n",
       "      <td>33120</td>\n",
       "      <td>1</td>\n",
       "      <td>1</td>\n",
       "    </tr>\n",
       "    <tr>\n",
       "      <th>1</th>\n",
       "      <td>2</td>\n",
       "      <td>28985</td>\n",
       "      <td>2</td>\n",
       "      <td>1</td>\n",
       "    </tr>\n",
       "    <tr>\n",
       "      <th>2</th>\n",
       "      <td>2</td>\n",
       "      <td>9327</td>\n",
       "      <td>3</td>\n",
       "      <td>0</td>\n",
       "    </tr>\n",
       "    <tr>\n",
       "      <th>3</th>\n",
       "      <td>2</td>\n",
       "      <td>45918</td>\n",
       "      <td>4</td>\n",
       "      <td>1</td>\n",
       "    </tr>\n",
       "    <tr>\n",
       "      <th>4</th>\n",
       "      <td>2</td>\n",
       "      <td>30035</td>\n",
       "      <td>5</td>\n",
       "      <td>0</td>\n",
       "    </tr>\n",
       "    <tr>\n",
       "      <th>5</th>\n",
       "      <td>2</td>\n",
       "      <td>17794</td>\n",
       "      <td>6</td>\n",
       "      <td>1</td>\n",
       "    </tr>\n",
       "    <tr>\n",
       "      <th>6</th>\n",
       "      <td>2</td>\n",
       "      <td>40141</td>\n",
       "      <td>7</td>\n",
       "      <td>1</td>\n",
       "    </tr>\n",
       "    <tr>\n",
       "      <th>7</th>\n",
       "      <td>2</td>\n",
       "      <td>1819</td>\n",
       "      <td>8</td>\n",
       "      <td>1</td>\n",
       "    </tr>\n",
       "    <tr>\n",
       "      <th>8</th>\n",
       "      <td>2</td>\n",
       "      <td>43668</td>\n",
       "      <td>9</td>\n",
       "      <td>0</td>\n",
       "    </tr>\n",
       "    <tr>\n",
       "      <th>9</th>\n",
       "      <td>3</td>\n",
       "      <td>33754</td>\n",
       "      <td>1</td>\n",
       "      <td>1</td>\n",
       "    </tr>\n",
       "    <tr>\n",
       "      <th>10</th>\n",
       "      <td>3</td>\n",
       "      <td>24838</td>\n",
       "      <td>2</td>\n",
       "      <td>1</td>\n",
       "    </tr>\n",
       "    <tr>\n",
       "      <th>11</th>\n",
       "      <td>3</td>\n",
       "      <td>17704</td>\n",
       "      <td>3</td>\n",
       "      <td>1</td>\n",
       "    </tr>\n",
       "    <tr>\n",
       "      <th>12</th>\n",
       "      <td>3</td>\n",
       "      <td>21903</td>\n",
       "      <td>4</td>\n",
       "      <td>1</td>\n",
       "    </tr>\n",
       "    <tr>\n",
       "      <th>13</th>\n",
       "      <td>3</td>\n",
       "      <td>17668</td>\n",
       "      <td>5</td>\n",
       "      <td>1</td>\n",
       "    </tr>\n",
       "    <tr>\n",
       "      <th>14</th>\n",
       "      <td>3</td>\n",
       "      <td>46667</td>\n",
       "      <td>6</td>\n",
       "      <td>1</td>\n",
       "    </tr>\n",
       "    <tr>\n",
       "      <th>15</th>\n",
       "      <td>3</td>\n",
       "      <td>17461</td>\n",
       "      <td>7</td>\n",
       "      <td>1</td>\n",
       "    </tr>\n",
       "    <tr>\n",
       "      <th>16</th>\n",
       "      <td>3</td>\n",
       "      <td>32665</td>\n",
       "      <td>8</td>\n",
       "      <td>1</td>\n",
       "    </tr>\n",
       "    <tr>\n",
       "      <th>17</th>\n",
       "      <td>4</td>\n",
       "      <td>46842</td>\n",
       "      <td>1</td>\n",
       "      <td>0</td>\n",
       "    </tr>\n",
       "    <tr>\n",
       "      <th>18</th>\n",
       "      <td>4</td>\n",
       "      <td>26434</td>\n",
       "      <td>2</td>\n",
       "      <td>1</td>\n",
       "    </tr>\n",
       "    <tr>\n",
       "      <th>19</th>\n",
       "      <td>4</td>\n",
       "      <td>39758</td>\n",
       "      <td>3</td>\n",
       "      <td>1</td>\n",
       "    </tr>\n",
       "    <tr>\n",
       "      <th>20</th>\n",
       "      <td>4</td>\n",
       "      <td>27761</td>\n",
       "      <td>4</td>\n",
       "      <td>1</td>\n",
       "    </tr>\n",
       "    <tr>\n",
       "      <th>21</th>\n",
       "      <td>4</td>\n",
       "      <td>10054</td>\n",
       "      <td>5</td>\n",
       "      <td>1</td>\n",
       "    </tr>\n",
       "    <tr>\n",
       "      <th>22</th>\n",
       "      <td>4</td>\n",
       "      <td>21351</td>\n",
       "      <td>6</td>\n",
       "      <td>1</td>\n",
       "    </tr>\n",
       "    <tr>\n",
       "      <th>23</th>\n",
       "      <td>4</td>\n",
       "      <td>22598</td>\n",
       "      <td>7</td>\n",
       "      <td>1</td>\n",
       "    </tr>\n",
       "    <tr>\n",
       "      <th>24</th>\n",
       "      <td>4</td>\n",
       "      <td>34862</td>\n",
       "      <td>8</td>\n",
       "      <td>1</td>\n",
       "    </tr>\n",
       "    <tr>\n",
       "      <th>25</th>\n",
       "      <td>4</td>\n",
       "      <td>40285</td>\n",
       "      <td>9</td>\n",
       "      <td>1</td>\n",
       "    </tr>\n",
       "    <tr>\n",
       "      <th>26</th>\n",
       "      <td>4</td>\n",
       "      <td>17616</td>\n",
       "      <td>10</td>\n",
       "      <td>1</td>\n",
       "    </tr>\n",
       "    <tr>\n",
       "      <th>27</th>\n",
       "      <td>4</td>\n",
       "      <td>25146</td>\n",
       "      <td>11</td>\n",
       "      <td>1</td>\n",
       "    </tr>\n",
       "    <tr>\n",
       "      <th>28</th>\n",
       "      <td>4</td>\n",
       "      <td>32645</td>\n",
       "      <td>12</td>\n",
       "      <td>1</td>\n",
       "    </tr>\n",
       "    <tr>\n",
       "      <th>29</th>\n",
       "      <td>4</td>\n",
       "      <td>41276</td>\n",
       "      <td>13</td>\n",
       "      <td>1</td>\n",
       "    </tr>\n",
       "    <tr>\n",
       "      <th>30</th>\n",
       "      <td>5</td>\n",
       "      <td>13176</td>\n",
       "      <td>1</td>\n",
       "      <td>1</td>\n",
       "    </tr>\n",
       "    <tr>\n",
       "      <th>31</th>\n",
       "      <td>5</td>\n",
       "      <td>15005</td>\n",
       "      <td>2</td>\n",
       "      <td>1</td>\n",
       "    </tr>\n",
       "    <tr>\n",
       "      <th>32</th>\n",
       "      <td>5</td>\n",
       "      <td>47329</td>\n",
       "      <td>3</td>\n",
       "      <td>1</td>\n",
       "    </tr>\n",
       "    <tr>\n",
       "      <th>33</th>\n",
       "      <td>5</td>\n",
       "      <td>27966</td>\n",
       "      <td>4</td>\n",
       "      <td>1</td>\n",
       "    </tr>\n",
       "    <tr>\n",
       "      <th>34</th>\n",
       "      <td>5</td>\n",
       "      <td>23909</td>\n",
       "      <td>5</td>\n",
       "      <td>1</td>\n",
       "    </tr>\n",
       "    <tr>\n",
       "      <th>35</th>\n",
       "      <td>5</td>\n",
       "      <td>48370</td>\n",
       "      <td>6</td>\n",
       "      <td>1</td>\n",
       "    </tr>\n",
       "    <tr>\n",
       "      <th>36</th>\n",
       "      <td>5</td>\n",
       "      <td>13245</td>\n",
       "      <td>7</td>\n",
       "      <td>1</td>\n",
       "    </tr>\n",
       "    <tr>\n",
       "      <th>37</th>\n",
       "      <td>5</td>\n",
       "      <td>9633</td>\n",
       "      <td>8</td>\n",
       "      <td>1</td>\n",
       "    </tr>\n",
       "    <tr>\n",
       "      <th>38</th>\n",
       "      <td>5</td>\n",
       "      <td>27360</td>\n",
       "      <td>9</td>\n",
       "      <td>1</td>\n",
       "    </tr>\n",
       "    <tr>\n",
       "      <th>39</th>\n",
       "      <td>5</td>\n",
       "      <td>6348</td>\n",
       "      <td>10</td>\n",
       "      <td>1</td>\n",
       "    </tr>\n",
       "    <tr>\n",
       "      <th>40</th>\n",
       "      <td>5</td>\n",
       "      <td>40878</td>\n",
       "      <td>11</td>\n",
       "      <td>1</td>\n",
       "    </tr>\n",
       "    <tr>\n",
       "      <th>41</th>\n",
       "      <td>5</td>\n",
       "      <td>6184</td>\n",
       "      <td>12</td>\n",
       "      <td>1</td>\n",
       "    </tr>\n",
       "    <tr>\n",
       "      <th>42</th>\n",
       "      <td>5</td>\n",
       "      <td>48002</td>\n",
       "      <td>13</td>\n",
       "      <td>1</td>\n",
       "    </tr>\n",
       "    <tr>\n",
       "      <th>43</th>\n",
       "      <td>5</td>\n",
       "      <td>20914</td>\n",
       "      <td>14</td>\n",
       "      <td>1</td>\n",
       "    </tr>\n",
       "    <tr>\n",
       "      <th>44</th>\n",
       "      <td>5</td>\n",
       "      <td>37011</td>\n",
       "      <td>15</td>\n",
       "      <td>1</td>\n",
       "    </tr>\n",
       "    <tr>\n",
       "      <th>45</th>\n",
       "      <td>5</td>\n",
       "      <td>12962</td>\n",
       "      <td>16</td>\n",
       "      <td>1</td>\n",
       "    </tr>\n",
       "    <tr>\n",
       "      <th>46</th>\n",
       "      <td>5</td>\n",
       "      <td>45698</td>\n",
       "      <td>17</td>\n",
       "      <td>1</td>\n",
       "    </tr>\n",
       "    <tr>\n",
       "      <th>47</th>\n",
       "      <td>5</td>\n",
       "      <td>24773</td>\n",
       "      <td>18</td>\n",
       "      <td>1</td>\n",
       "    </tr>\n",
       "    <tr>\n",
       "      <th>48</th>\n",
       "      <td>5</td>\n",
       "      <td>18569</td>\n",
       "      <td>19</td>\n",
       "      <td>1</td>\n",
       "    </tr>\n",
       "    <tr>\n",
       "      <th>49</th>\n",
       "      <td>5</td>\n",
       "      <td>41176</td>\n",
       "      <td>20</td>\n",
       "      <td>1</td>\n",
       "    </tr>\n",
       "    <tr>\n",
       "      <th>50</th>\n",
       "      <td>5</td>\n",
       "      <td>48366</td>\n",
       "      <td>21</td>\n",
       "      <td>1</td>\n",
       "    </tr>\n",
       "    <tr>\n",
       "      <th>51</th>\n",
       "      <td>5</td>\n",
       "      <td>47209</td>\n",
       "      <td>22</td>\n",
       "      <td>0</td>\n",
       "    </tr>\n",
       "    <tr>\n",
       "      <th>52</th>\n",
       "      <td>5</td>\n",
       "      <td>46522</td>\n",
       "      <td>23</td>\n",
       "      <td>0</td>\n",
       "    </tr>\n",
       "    <tr>\n",
       "      <th>53</th>\n",
       "      <td>5</td>\n",
       "      <td>38693</td>\n",
       "      <td>24</td>\n",
       "      <td>0</td>\n",
       "    </tr>\n",
       "    <tr>\n",
       "      <th>54</th>\n",
       "      <td>5</td>\n",
       "      <td>48825</td>\n",
       "      <td>25</td>\n",
       "      <td>0</td>\n",
       "    </tr>\n",
       "    <tr>\n",
       "      <th>55</th>\n",
       "      <td>5</td>\n",
       "      <td>8479</td>\n",
       "      <td>26</td>\n",
       "      <td>0</td>\n",
       "    </tr>\n",
       "    <tr>\n",
       "      <th>56</th>\n",
       "      <td>6</td>\n",
       "      <td>40462</td>\n",
       "      <td>1</td>\n",
       "      <td>0</td>\n",
       "    </tr>\n",
       "    <tr>\n",
       "      <th>57</th>\n",
       "      <td>6</td>\n",
       "      <td>15873</td>\n",
       "      <td>2</td>\n",
       "      <td>0</td>\n",
       "    </tr>\n",
       "    <tr>\n",
       "      <th>58</th>\n",
       "      <td>6</td>\n",
       "      <td>41897</td>\n",
       "      <td>3</td>\n",
       "      <td>0</td>\n",
       "    </tr>\n",
       "    <tr>\n",
       "      <th>59</th>\n",
       "      <td>7</td>\n",
       "      <td>34050</td>\n",
       "      <td>1</td>\n",
       "      <td>0</td>\n",
       "    </tr>\n",
       "    <tr>\n",
       "      <th>60</th>\n",
       "      <td>7</td>\n",
       "      <td>46802</td>\n",
       "      <td>2</td>\n",
       "      <td>0</td>\n",
       "    </tr>\n",
       "    <tr>\n",
       "      <th>61</th>\n",
       "      <td>8</td>\n",
       "      <td>23423</td>\n",
       "      <td>1</td>\n",
       "      <td>1</td>\n",
       "    </tr>\n",
       "    <tr>\n",
       "      <th>62</th>\n",
       "      <td>9</td>\n",
       "      <td>21405</td>\n",
       "      <td>1</td>\n",
       "      <td>0</td>\n",
       "    </tr>\n",
       "    <tr>\n",
       "      <th>63</th>\n",
       "      <td>9</td>\n",
       "      <td>47890</td>\n",
       "      <td>2</td>\n",
       "      <td>1</td>\n",
       "    </tr>\n",
       "    <tr>\n",
       "      <th>64</th>\n",
       "      <td>9</td>\n",
       "      <td>11182</td>\n",
       "      <td>3</td>\n",
       "      <td>0</td>\n",
       "    </tr>\n",
       "    <tr>\n",
       "      <th>65</th>\n",
       "      <td>9</td>\n",
       "      <td>2014</td>\n",
       "      <td>4</td>\n",
       "      <td>1</td>\n",
       "    </tr>\n",
       "    <tr>\n",
       "      <th>66</th>\n",
       "      <td>9</td>\n",
       "      <td>29193</td>\n",
       "      <td>5</td>\n",
       "      <td>1</td>\n",
       "    </tr>\n",
       "    <tr>\n",
       "      <th>67</th>\n",
       "      <td>9</td>\n",
       "      <td>34203</td>\n",
       "      <td>6</td>\n",
       "      <td>1</td>\n",
       "    </tr>\n",
       "    <tr>\n",
       "      <th>68</th>\n",
       "      <td>9</td>\n",
       "      <td>14992</td>\n",
       "      <td>7</td>\n",
       "      <td>1</td>\n",
       "    </tr>\n",
       "    <tr>\n",
       "      <th>69</th>\n",
       "      <td>9</td>\n",
       "      <td>31506</td>\n",
       "      <td>8</td>\n",
       "      <td>1</td>\n",
       "    </tr>\n",
       "    <tr>\n",
       "      <th>70</th>\n",
       "      <td>9</td>\n",
       "      <td>23288</td>\n",
       "      <td>9</td>\n",
       "      <td>0</td>\n",
       "    </tr>\n",
       "    <tr>\n",
       "      <th>71</th>\n",
       "      <td>9</td>\n",
       "      <td>44533</td>\n",
       "      <td>10</td>\n",
       "      <td>1</td>\n",
       "    </tr>\n",
       "    <tr>\n",
       "      <th>72</th>\n",
       "      <td>9</td>\n",
       "      <td>18362</td>\n",
       "      <td>11</td>\n",
       "      <td>0</td>\n",
       "    </tr>\n",
       "    <tr>\n",
       "      <th>73</th>\n",
       "      <td>9</td>\n",
       "      <td>27366</td>\n",
       "      <td>12</td>\n",
       "      <td>1</td>\n",
       "    </tr>\n",
       "    <tr>\n",
       "      <th>74</th>\n",
       "      <td>9</td>\n",
       "      <td>432</td>\n",
       "      <td>13</td>\n",
       "      <td>1</td>\n",
       "    </tr>\n",
       "    <tr>\n",
       "      <th>75</th>\n",
       "      <td>9</td>\n",
       "      <td>3990</td>\n",
       "      <td>14</td>\n",
       "      <td>1</td>\n",
       "    </tr>\n",
       "    <tr>\n",
       "      <th>76</th>\n",
       "      <td>9</td>\n",
       "      <td>14183</td>\n",
       "      <td>15</td>\n",
       "      <td>0</td>\n",
       "    </tr>\n",
       "    <tr>\n",
       "      <th>77</th>\n",
       "      <td>10</td>\n",
       "      <td>24852</td>\n",
       "      <td>1</td>\n",
       "      <td>1</td>\n",
       "    </tr>\n",
       "    <tr>\n",
       "      <th>78</th>\n",
       "      <td>10</td>\n",
       "      <td>4796</td>\n",
       "      <td>2</td>\n",
       "      <td>1</td>\n",
       "    </tr>\n",
       "    <tr>\n",
       "      <th>79</th>\n",
       "      <td>10</td>\n",
       "      <td>31717</td>\n",
       "      <td>3</td>\n",
       "      <td>0</td>\n",
       "    </tr>\n",
       "    <tr>\n",
       "      <th>80</th>\n",
       "      <td>10</td>\n",
       "      <td>47766</td>\n",
       "      <td>4</td>\n",
       "      <td>1</td>\n",
       "    </tr>\n",
       "    <tr>\n",
       "      <th>81</th>\n",
       "      <td>10</td>\n",
       "      <td>4605</td>\n",
       "      <td>5</td>\n",
       "      <td>1</td>\n",
       "    </tr>\n",
       "    <tr>\n",
       "      <th>82</th>\n",
       "      <td>10</td>\n",
       "      <td>1529</td>\n",
       "      <td>6</td>\n",
       "      <td>0</td>\n",
       "    </tr>\n",
       "    <tr>\n",
       "      <th>83</th>\n",
       "      <td>10</td>\n",
       "      <td>21137</td>\n",
       "      <td>7</td>\n",
       "      <td>1</td>\n",
       "    </tr>\n",
       "    <tr>\n",
       "      <th>84</th>\n",
       "      <td>10</td>\n",
       "      <td>22122</td>\n",
       "      <td>8</td>\n",
       "      <td>1</td>\n",
       "    </tr>\n",
       "    <tr>\n",
       "      <th>85</th>\n",
       "      <td>10</td>\n",
       "      <td>34134</td>\n",
       "      <td>9</td>\n",
       "      <td>1</td>\n",
       "    </tr>\n",
       "    <tr>\n",
       "      <th>86</th>\n",
       "      <td>10</td>\n",
       "      <td>27156</td>\n",
       "      <td>10</td>\n",
       "      <td>0</td>\n",
       "    </tr>\n",
       "    <tr>\n",
       "      <th>87</th>\n",
       "      <td>10</td>\n",
       "      <td>14992</td>\n",
       "      <td>11</td>\n",
       "      <td>0</td>\n",
       "    </tr>\n",
       "    <tr>\n",
       "      <th>88</th>\n",
       "      <td>10</td>\n",
       "      <td>49235</td>\n",
       "      <td>12</td>\n",
       "      <td>1</td>\n",
       "    </tr>\n",
       "    <tr>\n",
       "      <th>89</th>\n",
       "      <td>10</td>\n",
       "      <td>26842</td>\n",
       "      <td>13</td>\n",
       "      <td>0</td>\n",
       "    </tr>\n",
       "    <tr>\n",
       "      <th>90</th>\n",
       "      <td>10</td>\n",
       "      <td>3464</td>\n",
       "      <td>14</td>\n",
       "      <td>0</td>\n",
       "    </tr>\n",
       "    <tr>\n",
       "      <th>91</th>\n",
       "      <td>10</td>\n",
       "      <td>25720</td>\n",
       "      <td>15</td>\n",
       "      <td>0</td>\n",
       "    </tr>\n",
       "    <tr>\n",
       "      <th>92</th>\n",
       "      <td>11</td>\n",
       "      <td>30162</td>\n",
       "      <td>1</td>\n",
       "      <td>1</td>\n",
       "    </tr>\n",
       "    <tr>\n",
       "      <th>93</th>\n",
       "      <td>11</td>\n",
       "      <td>27085</td>\n",
       "      <td>2</td>\n",
       "      <td>1</td>\n",
       "    </tr>\n",
       "    <tr>\n",
       "      <th>94</th>\n",
       "      <td>11</td>\n",
       "      <td>5994</td>\n",
       "      <td>3</td>\n",
       "      <td>1</td>\n",
       "    </tr>\n",
       "    <tr>\n",
       "      <th>95</th>\n",
       "      <td>11</td>\n",
       "      <td>1313</td>\n",
       "      <td>4</td>\n",
       "      <td>1</td>\n",
       "    </tr>\n",
       "    <tr>\n",
       "      <th>96</th>\n",
       "      <td>11</td>\n",
       "      <td>31506</td>\n",
       "      <td>5</td>\n",
       "      <td>1</td>\n",
       "    </tr>\n",
       "    <tr>\n",
       "      <th>97</th>\n",
       "      <td>12</td>\n",
       "      <td>30597</td>\n",
       "      <td>1</td>\n",
       "      <td>1</td>\n",
       "    </tr>\n",
       "    <tr>\n",
       "      <th>98</th>\n",
       "      <td>12</td>\n",
       "      <td>15221</td>\n",
       "      <td>2</td>\n",
       "      <td>1</td>\n",
       "    </tr>\n",
       "    <tr>\n",
       "      <th>99</th>\n",
       "      <td>12</td>\n",
       "      <td>43772</td>\n",
       "      <td>3</td>\n",
       "      <td>1</td>\n",
       "    </tr>\n",
       "    <tr>\n",
       "      <th>...</th>\n",
       "      <td>...</td>\n",
       "      <td>...</td>\n",
       "      <td>...</td>\n",
       "      <td>...</td>\n",
       "    </tr>\n",
       "    <tr>\n",
       "      <th>32434389</th>\n",
       "      <td>3421068</td>\n",
       "      <td>9175</td>\n",
       "      <td>13</td>\n",
       "      <td>0</td>\n",
       "    </tr>\n",
       "    <tr>\n",
       "      <th>32434390</th>\n",
       "      <td>3421068</td>\n",
       "      <td>10957</td>\n",
       "      <td>14</td>\n",
       "      <td>0</td>\n",
       "    </tr>\n",
       "    <tr>\n",
       "      <th>32434391</th>\n",
       "      <td>3421069</td>\n",
       "      <td>28199</td>\n",
       "      <td>1</td>\n",
       "      <td>1</td>\n",
       "    </tr>\n",
       "    <tr>\n",
       "      <th>32434392</th>\n",
       "      <td>3421069</td>\n",
       "      <td>9426</td>\n",
       "      <td>2</td>\n",
       "      <td>0</td>\n",
       "    </tr>\n",
       "    <tr>\n",
       "      <th>32434393</th>\n",
       "      <td>3421069</td>\n",
       "      <td>46667</td>\n",
       "      <td>3</td>\n",
       "      <td>1</td>\n",
       "    </tr>\n",
       "    <tr>\n",
       "      <th>32434394</th>\n",
       "      <td>3421069</td>\n",
       "      <td>10831</td>\n",
       "      <td>4</td>\n",
       "      <td>1</td>\n",
       "    </tr>\n",
       "    <tr>\n",
       "      <th>32434395</th>\n",
       "      <td>3421069</td>\n",
       "      <td>27966</td>\n",
       "      <td>5</td>\n",
       "      <td>1</td>\n",
       "    </tr>\n",
       "    <tr>\n",
       "      <th>32434396</th>\n",
       "      <td>3421069</td>\n",
       "      <td>34243</td>\n",
       "      <td>6</td>\n",
       "      <td>1</td>\n",
       "    </tr>\n",
       "    <tr>\n",
       "      <th>32434397</th>\n",
       "      <td>3421069</td>\n",
       "      <td>38383</td>\n",
       "      <td>7</td>\n",
       "      <td>1</td>\n",
       "    </tr>\n",
       "    <tr>\n",
       "      <th>32434398</th>\n",
       "      <td>3421069</td>\n",
       "      <td>21137</td>\n",
       "      <td>8</td>\n",
       "      <td>1</td>\n",
       "    </tr>\n",
       "    <tr>\n",
       "      <th>32434399</th>\n",
       "      <td>3421069</td>\n",
       "      <td>30391</td>\n",
       "      <td>9</td>\n",
       "      <td>1</td>\n",
       "    </tr>\n",
       "    <tr>\n",
       "      <th>32434400</th>\n",
       "      <td>3421069</td>\n",
       "      <td>18656</td>\n",
       "      <td>10</td>\n",
       "      <td>1</td>\n",
       "    </tr>\n",
       "    <tr>\n",
       "      <th>32434401</th>\n",
       "      <td>3421069</td>\n",
       "      <td>26940</td>\n",
       "      <td>11</td>\n",
       "      <td>1</td>\n",
       "    </tr>\n",
       "    <tr>\n",
       "      <th>32434402</th>\n",
       "      <td>3421069</td>\n",
       "      <td>19057</td>\n",
       "      <td>12</td>\n",
       "      <td>1</td>\n",
       "    </tr>\n",
       "    <tr>\n",
       "      <th>32434403</th>\n",
       "      <td>3421071</td>\n",
       "      <td>26919</td>\n",
       "      <td>1</td>\n",
       "      <td>0</td>\n",
       "    </tr>\n",
       "    <tr>\n",
       "      <th>32434404</th>\n",
       "      <td>3421071</td>\n",
       "      <td>21791</td>\n",
       "      <td>2</td>\n",
       "      <td>0</td>\n",
       "    </tr>\n",
       "    <tr>\n",
       "      <th>32434405</th>\n",
       "      <td>3421071</td>\n",
       "      <td>35921</td>\n",
       "      <td>3</td>\n",
       "      <td>0</td>\n",
       "    </tr>\n",
       "    <tr>\n",
       "      <th>32434406</th>\n",
       "      <td>3421071</td>\n",
       "      <td>32293</td>\n",
       "      <td>4</td>\n",
       "      <td>1</td>\n",
       "    </tr>\n",
       "    <tr>\n",
       "      <th>32434407</th>\n",
       "      <td>3421071</td>\n",
       "      <td>34270</td>\n",
       "      <td>5</td>\n",
       "      <td>0</td>\n",
       "    </tr>\n",
       "    <tr>\n",
       "      <th>32434408</th>\n",
       "      <td>3421072</td>\n",
       "      <td>31553</td>\n",
       "      <td>1</td>\n",
       "      <td>0</td>\n",
       "    </tr>\n",
       "    <tr>\n",
       "      <th>32434409</th>\n",
       "      <td>3421072</td>\n",
       "      <td>4302</td>\n",
       "      <td>2</td>\n",
       "      <td>0</td>\n",
       "    </tr>\n",
       "    <tr>\n",
       "      <th>32434410</th>\n",
       "      <td>3421072</td>\n",
       "      <td>10246</td>\n",
       "      <td>3</td>\n",
       "      <td>0</td>\n",
       "    </tr>\n",
       "    <tr>\n",
       "      <th>32434411</th>\n",
       "      <td>3421072</td>\n",
       "      <td>6999</td>\n",
       "      <td>4</td>\n",
       "      <td>0</td>\n",
       "    </tr>\n",
       "    <tr>\n",
       "      <th>32434412</th>\n",
       "      <td>3421072</td>\n",
       "      <td>26209</td>\n",
       "      <td>5</td>\n",
       "      <td>0</td>\n",
       "    </tr>\n",
       "    <tr>\n",
       "      <th>32434413</th>\n",
       "      <td>3421072</td>\n",
       "      <td>28134</td>\n",
       "      <td>6</td>\n",
       "      <td>0</td>\n",
       "    </tr>\n",
       "    <tr>\n",
       "      <th>32434414</th>\n",
       "      <td>3421072</td>\n",
       "      <td>10863</td>\n",
       "      <td>7</td>\n",
       "      <td>0</td>\n",
       "    </tr>\n",
       "    <tr>\n",
       "      <th>32434415</th>\n",
       "      <td>3421072</td>\n",
       "      <td>38275</td>\n",
       "      <td>8</td>\n",
       "      <td>1</td>\n",
       "    </tr>\n",
       "    <tr>\n",
       "      <th>32434416</th>\n",
       "      <td>3421072</td>\n",
       "      <td>25647</td>\n",
       "      <td>9</td>\n",
       "      <td>1</td>\n",
       "    </tr>\n",
       "    <tr>\n",
       "      <th>32434417</th>\n",
       "      <td>3421072</td>\n",
       "      <td>20144</td>\n",
       "      <td>10</td>\n",
       "      <td>1</td>\n",
       "    </tr>\n",
       "    <tr>\n",
       "      <th>32434418</th>\n",
       "      <td>3421072</td>\n",
       "      <td>6473</td>\n",
       "      <td>11</td>\n",
       "      <td>0</td>\n",
       "    </tr>\n",
       "    <tr>\n",
       "      <th>32434419</th>\n",
       "      <td>3421072</td>\n",
       "      <td>20061</td>\n",
       "      <td>12</td>\n",
       "      <td>0</td>\n",
       "    </tr>\n",
       "    <tr>\n",
       "      <th>32434420</th>\n",
       "      <td>3421073</td>\n",
       "      <td>49187</td>\n",
       "      <td>1</td>\n",
       "      <td>0</td>\n",
       "    </tr>\n",
       "    <tr>\n",
       "      <th>32434421</th>\n",
       "      <td>3421073</td>\n",
       "      <td>20126</td>\n",
       "      <td>2</td>\n",
       "      <td>0</td>\n",
       "    </tr>\n",
       "    <tr>\n",
       "      <th>32434422</th>\n",
       "      <td>3421074</td>\n",
       "      <td>12987</td>\n",
       "      <td>1</td>\n",
       "      <td>1</td>\n",
       "    </tr>\n",
       "    <tr>\n",
       "      <th>32434423</th>\n",
       "      <td>3421074</td>\n",
       "      <td>1640</td>\n",
       "      <td>2</td>\n",
       "      <td>0</td>\n",
       "    </tr>\n",
       "    <tr>\n",
       "      <th>32434424</th>\n",
       "      <td>3421074</td>\n",
       "      <td>29066</td>\n",
       "      <td>3</td>\n",
       "      <td>0</td>\n",
       "    </tr>\n",
       "    <tr>\n",
       "      <th>32434425</th>\n",
       "      <td>3421074</td>\n",
       "      <td>49383</td>\n",
       "      <td>4</td>\n",
       "      <td>0</td>\n",
       "    </tr>\n",
       "    <tr>\n",
       "      <th>32434426</th>\n",
       "      <td>3421075</td>\n",
       "      <td>49429</td>\n",
       "      <td>1</td>\n",
       "      <td>1</td>\n",
       "    </tr>\n",
       "    <tr>\n",
       "      <th>32434427</th>\n",
       "      <td>3421075</td>\n",
       "      <td>18721</td>\n",
       "      <td>2</td>\n",
       "      <td>1</td>\n",
       "    </tr>\n",
       "    <tr>\n",
       "      <th>32434428</th>\n",
       "      <td>3421075</td>\n",
       "      <td>34027</td>\n",
       "      <td>3</td>\n",
       "      <td>1</td>\n",
       "    </tr>\n",
       "    <tr>\n",
       "      <th>32434429</th>\n",
       "      <td>3421075</td>\n",
       "      <td>14227</td>\n",
       "      <td>4</td>\n",
       "      <td>1</td>\n",
       "    </tr>\n",
       "    <tr>\n",
       "      <th>32434430</th>\n",
       "      <td>3421075</td>\n",
       "      <td>25153</td>\n",
       "      <td>5</td>\n",
       "      <td>1</td>\n",
       "    </tr>\n",
       "    <tr>\n",
       "      <th>32434431</th>\n",
       "      <td>3421075</td>\n",
       "      <td>43409</td>\n",
       "      <td>6</td>\n",
       "      <td>1</td>\n",
       "    </tr>\n",
       "    <tr>\n",
       "      <th>32434432</th>\n",
       "      <td>3421075</td>\n",
       "      <td>47941</td>\n",
       "      <td>7</td>\n",
       "      <td>1</td>\n",
       "    </tr>\n",
       "    <tr>\n",
       "      <th>32434433</th>\n",
       "      <td>3421075</td>\n",
       "      <td>3873</td>\n",
       "      <td>8</td>\n",
       "      <td>1</td>\n",
       "    </tr>\n",
       "    <tr>\n",
       "      <th>32434434</th>\n",
       "      <td>3421076</td>\n",
       "      <td>48101</td>\n",
       "      <td>1</td>\n",
       "      <td>0</td>\n",
       "    </tr>\n",
       "    <tr>\n",
       "      <th>32434435</th>\n",
       "      <td>3421076</td>\n",
       "      <td>25718</td>\n",
       "      <td>2</td>\n",
       "      <td>1</td>\n",
       "    </tr>\n",
       "    <tr>\n",
       "      <th>32434436</th>\n",
       "      <td>3421076</td>\n",
       "      <td>19348</td>\n",
       "      <td>3</td>\n",
       "      <td>1</td>\n",
       "    </tr>\n",
       "    <tr>\n",
       "      <th>32434437</th>\n",
       "      <td>3421076</td>\n",
       "      <td>17878</td>\n",
       "      <td>4</td>\n",
       "      <td>1</td>\n",
       "    </tr>\n",
       "    <tr>\n",
       "      <th>32434438</th>\n",
       "      <td>3421076</td>\n",
       "      <td>17487</td>\n",
       "      <td>5</td>\n",
       "      <td>1</td>\n",
       "    </tr>\n",
       "    <tr>\n",
       "      <th>32434439</th>\n",
       "      <td>3421076</td>\n",
       "      <td>28849</td>\n",
       "      <td>6</td>\n",
       "      <td>1</td>\n",
       "    </tr>\n",
       "    <tr>\n",
       "      <th>32434440</th>\n",
       "      <td>3421076</td>\n",
       "      <td>47114</td>\n",
       "      <td>7</td>\n",
       "      <td>1</td>\n",
       "    </tr>\n",
       "    <tr>\n",
       "      <th>32434441</th>\n",
       "      <td>3421076</td>\n",
       "      <td>44560</td>\n",
       "      <td>8</td>\n",
       "      <td>1</td>\n",
       "    </tr>\n",
       "    <tr>\n",
       "      <th>32434442</th>\n",
       "      <td>3421077</td>\n",
       "      <td>27966</td>\n",
       "      <td>1</td>\n",
       "      <td>0</td>\n",
       "    </tr>\n",
       "    <tr>\n",
       "      <th>32434443</th>\n",
       "      <td>3421077</td>\n",
       "      <td>45007</td>\n",
       "      <td>2</td>\n",
       "      <td>0</td>\n",
       "    </tr>\n",
       "    <tr>\n",
       "      <th>32434444</th>\n",
       "      <td>3421077</td>\n",
       "      <td>26940</td>\n",
       "      <td>3</td>\n",
       "      <td>0</td>\n",
       "    </tr>\n",
       "    <tr>\n",
       "      <th>32434445</th>\n",
       "      <td>3421077</td>\n",
       "      <td>27845</td>\n",
       "      <td>4</td>\n",
       "      <td>0</td>\n",
       "    </tr>\n",
       "    <tr>\n",
       "      <th>32434446</th>\n",
       "      <td>3421078</td>\n",
       "      <td>37646</td>\n",
       "      <td>1</td>\n",
       "      <td>1</td>\n",
       "    </tr>\n",
       "    <tr>\n",
       "      <th>32434447</th>\n",
       "      <td>3421078</td>\n",
       "      <td>24852</td>\n",
       "      <td>2</td>\n",
       "      <td>1</td>\n",
       "    </tr>\n",
       "    <tr>\n",
       "      <th>32434448</th>\n",
       "      <td>3421078</td>\n",
       "      <td>38656</td>\n",
       "      <td>3</td>\n",
       "      <td>1</td>\n",
       "    </tr>\n",
       "    <tr>\n",
       "      <th>32434449</th>\n",
       "      <td>3421078</td>\n",
       "      <td>48577</td>\n",
       "      <td>4</td>\n",
       "      <td>1</td>\n",
       "    </tr>\n",
       "    <tr>\n",
       "      <th>32434450</th>\n",
       "      <td>3421078</td>\n",
       "      <td>22760</td>\n",
       "      <td>5</td>\n",
       "      <td>1</td>\n",
       "    </tr>\n",
       "    <tr>\n",
       "      <th>32434451</th>\n",
       "      <td>3421078</td>\n",
       "      <td>33750</td>\n",
       "      <td>6</td>\n",
       "      <td>1</td>\n",
       "    </tr>\n",
       "    <tr>\n",
       "      <th>32434452</th>\n",
       "      <td>3421078</td>\n",
       "      <td>41844</td>\n",
       "      <td>7</td>\n",
       "      <td>0</td>\n",
       "    </tr>\n",
       "    <tr>\n",
       "      <th>32434453</th>\n",
       "      <td>3421078</td>\n",
       "      <td>40396</td>\n",
       "      <td>8</td>\n",
       "      <td>1</td>\n",
       "    </tr>\n",
       "    <tr>\n",
       "      <th>32434454</th>\n",
       "      <td>3421078</td>\n",
       "      <td>14553</td>\n",
       "      <td>9</td>\n",
       "      <td>0</td>\n",
       "    </tr>\n",
       "    <tr>\n",
       "      <th>32434455</th>\n",
       "      <td>3421079</td>\n",
       "      <td>30136</td>\n",
       "      <td>1</td>\n",
       "      <td>0</td>\n",
       "    </tr>\n",
       "    <tr>\n",
       "      <th>32434456</th>\n",
       "      <td>3421080</td>\n",
       "      <td>27845</td>\n",
       "      <td>1</td>\n",
       "      <td>1</td>\n",
       "    </tr>\n",
       "    <tr>\n",
       "      <th>32434457</th>\n",
       "      <td>3421080</td>\n",
       "      <td>4932</td>\n",
       "      <td>2</td>\n",
       "      <td>1</td>\n",
       "    </tr>\n",
       "    <tr>\n",
       "      <th>32434458</th>\n",
       "      <td>3421080</td>\n",
       "      <td>18811</td>\n",
       "      <td>3</td>\n",
       "      <td>1</td>\n",
       "    </tr>\n",
       "    <tr>\n",
       "      <th>32434459</th>\n",
       "      <td>3421080</td>\n",
       "      <td>41950</td>\n",
       "      <td>4</td>\n",
       "      <td>0</td>\n",
       "    </tr>\n",
       "    <tr>\n",
       "      <th>32434460</th>\n",
       "      <td>3421080</td>\n",
       "      <td>31717</td>\n",
       "      <td>5</td>\n",
       "      <td>0</td>\n",
       "    </tr>\n",
       "    <tr>\n",
       "      <th>32434461</th>\n",
       "      <td>3421080</td>\n",
       "      <td>12935</td>\n",
       "      <td>6</td>\n",
       "      <td>1</td>\n",
       "    </tr>\n",
       "    <tr>\n",
       "      <th>32434462</th>\n",
       "      <td>3421080</td>\n",
       "      <td>25122</td>\n",
       "      <td>7</td>\n",
       "      <td>0</td>\n",
       "    </tr>\n",
       "    <tr>\n",
       "      <th>32434463</th>\n",
       "      <td>3421080</td>\n",
       "      <td>10667</td>\n",
       "      <td>8</td>\n",
       "      <td>0</td>\n",
       "    </tr>\n",
       "    <tr>\n",
       "      <th>32434464</th>\n",
       "      <td>3421080</td>\n",
       "      <td>38061</td>\n",
       "      <td>9</td>\n",
       "      <td>0</td>\n",
       "    </tr>\n",
       "    <tr>\n",
       "      <th>32434465</th>\n",
       "      <td>3421081</td>\n",
       "      <td>38185</td>\n",
       "      <td>1</td>\n",
       "      <td>0</td>\n",
       "    </tr>\n",
       "    <tr>\n",
       "      <th>32434466</th>\n",
       "      <td>3421081</td>\n",
       "      <td>12218</td>\n",
       "      <td>2</td>\n",
       "      <td>0</td>\n",
       "    </tr>\n",
       "    <tr>\n",
       "      <th>32434467</th>\n",
       "      <td>3421081</td>\n",
       "      <td>32299</td>\n",
       "      <td>3</td>\n",
       "      <td>0</td>\n",
       "    </tr>\n",
       "    <tr>\n",
       "      <th>32434468</th>\n",
       "      <td>3421081</td>\n",
       "      <td>3060</td>\n",
       "      <td>4</td>\n",
       "      <td>0</td>\n",
       "    </tr>\n",
       "    <tr>\n",
       "      <th>32434469</th>\n",
       "      <td>3421081</td>\n",
       "      <td>20539</td>\n",
       "      <td>5</td>\n",
       "      <td>0</td>\n",
       "    </tr>\n",
       "    <tr>\n",
       "      <th>32434470</th>\n",
       "      <td>3421081</td>\n",
       "      <td>35221</td>\n",
       "      <td>6</td>\n",
       "      <td>0</td>\n",
       "    </tr>\n",
       "    <tr>\n",
       "      <th>32434471</th>\n",
       "      <td>3421081</td>\n",
       "      <td>12861</td>\n",
       "      <td>7</td>\n",
       "      <td>0</td>\n",
       "    </tr>\n",
       "    <tr>\n",
       "      <th>32434472</th>\n",
       "      <td>3421082</td>\n",
       "      <td>17279</td>\n",
       "      <td>1</td>\n",
       "      <td>1</td>\n",
       "    </tr>\n",
       "    <tr>\n",
       "      <th>32434473</th>\n",
       "      <td>3421082</td>\n",
       "      <td>12738</td>\n",
       "      <td>2</td>\n",
       "      <td>1</td>\n",
       "    </tr>\n",
       "    <tr>\n",
       "      <th>32434474</th>\n",
       "      <td>3421082</td>\n",
       "      <td>16797</td>\n",
       "      <td>3</td>\n",
       "      <td>0</td>\n",
       "    </tr>\n",
       "    <tr>\n",
       "      <th>32434475</th>\n",
       "      <td>3421082</td>\n",
       "      <td>43352</td>\n",
       "      <td>4</td>\n",
       "      <td>1</td>\n",
       "    </tr>\n",
       "    <tr>\n",
       "      <th>32434476</th>\n",
       "      <td>3421082</td>\n",
       "      <td>32700</td>\n",
       "      <td>5</td>\n",
       "      <td>1</td>\n",
       "    </tr>\n",
       "    <tr>\n",
       "      <th>32434477</th>\n",
       "      <td>3421082</td>\n",
       "      <td>12023</td>\n",
       "      <td>6</td>\n",
       "      <td>0</td>\n",
       "    </tr>\n",
       "    <tr>\n",
       "      <th>32434478</th>\n",
       "      <td>3421082</td>\n",
       "      <td>47941</td>\n",
       "      <td>7</td>\n",
       "      <td>0</td>\n",
       "    </tr>\n",
       "    <tr>\n",
       "      <th>32434479</th>\n",
       "      <td>3421083</td>\n",
       "      <td>7854</td>\n",
       "      <td>1</td>\n",
       "      <td>0</td>\n",
       "    </tr>\n",
       "    <tr>\n",
       "      <th>32434480</th>\n",
       "      <td>3421083</td>\n",
       "      <td>45309</td>\n",
       "      <td>2</td>\n",
       "      <td>0</td>\n",
       "    </tr>\n",
       "    <tr>\n",
       "      <th>32434481</th>\n",
       "      <td>3421083</td>\n",
       "      <td>21162</td>\n",
       "      <td>3</td>\n",
       "      <td>0</td>\n",
       "    </tr>\n",
       "    <tr>\n",
       "      <th>32434482</th>\n",
       "      <td>3421083</td>\n",
       "      <td>18176</td>\n",
       "      <td>4</td>\n",
       "      <td>1</td>\n",
       "    </tr>\n",
       "    <tr>\n",
       "      <th>32434483</th>\n",
       "      <td>3421083</td>\n",
       "      <td>35211</td>\n",
       "      <td>5</td>\n",
       "      <td>0</td>\n",
       "    </tr>\n",
       "    <tr>\n",
       "      <th>32434484</th>\n",
       "      <td>3421083</td>\n",
       "      <td>39678</td>\n",
       "      <td>6</td>\n",
       "      <td>1</td>\n",
       "    </tr>\n",
       "    <tr>\n",
       "      <th>32434485</th>\n",
       "      <td>3421083</td>\n",
       "      <td>11352</td>\n",
       "      <td>7</td>\n",
       "      <td>0</td>\n",
       "    </tr>\n",
       "    <tr>\n",
       "      <th>32434486</th>\n",
       "      <td>3421083</td>\n",
       "      <td>4600</td>\n",
       "      <td>8</td>\n",
       "      <td>0</td>\n",
       "    </tr>\n",
       "    <tr>\n",
       "      <th>32434487</th>\n",
       "      <td>3421083</td>\n",
       "      <td>24852</td>\n",
       "      <td>9</td>\n",
       "      <td>1</td>\n",
       "    </tr>\n",
       "    <tr>\n",
       "      <th>32434488</th>\n",
       "      <td>3421083</td>\n",
       "      <td>5020</td>\n",
       "      <td>10</td>\n",
       "      <td>1</td>\n",
       "    </tr>\n",
       "  </tbody>\n",
       "</table>\n",
       "<p>32434489 rows × 4 columns</p>\n",
       "</div>"
      ],
      "text/plain": [
       "          order_id  product_id  add_to_cart_order  reordered\n",
       "0                2       33120                  1          1\n",
       "1                2       28985                  2          1\n",
       "2                2        9327                  3          0\n",
       "3                2       45918                  4          1\n",
       "4                2       30035                  5          0\n",
       "5                2       17794                  6          1\n",
       "6                2       40141                  7          1\n",
       "7                2        1819                  8          1\n",
       "8                2       43668                  9          0\n",
       "9                3       33754                  1          1\n",
       "10               3       24838                  2          1\n",
       "11               3       17704                  3          1\n",
       "12               3       21903                  4          1\n",
       "13               3       17668                  5          1\n",
       "14               3       46667                  6          1\n",
       "15               3       17461                  7          1\n",
       "16               3       32665                  8          1\n",
       "17               4       46842                  1          0\n",
       "18               4       26434                  2          1\n",
       "19               4       39758                  3          1\n",
       "20               4       27761                  4          1\n",
       "21               4       10054                  5          1\n",
       "22               4       21351                  6          1\n",
       "23               4       22598                  7          1\n",
       "24               4       34862                  8          1\n",
       "25               4       40285                  9          1\n",
       "26               4       17616                 10          1\n",
       "27               4       25146                 11          1\n",
       "28               4       32645                 12          1\n",
       "29               4       41276                 13          1\n",
       "30               5       13176                  1          1\n",
       "31               5       15005                  2          1\n",
       "32               5       47329                  3          1\n",
       "33               5       27966                  4          1\n",
       "34               5       23909                  5          1\n",
       "35               5       48370                  6          1\n",
       "36               5       13245                  7          1\n",
       "37               5        9633                  8          1\n",
       "38               5       27360                  9          1\n",
       "39               5        6348                 10          1\n",
       "40               5       40878                 11          1\n",
       "41               5        6184                 12          1\n",
       "42               5       48002                 13          1\n",
       "43               5       20914                 14          1\n",
       "44               5       37011                 15          1\n",
       "45               5       12962                 16          1\n",
       "46               5       45698                 17          1\n",
       "47               5       24773                 18          1\n",
       "48               5       18569                 19          1\n",
       "49               5       41176                 20          1\n",
       "50               5       48366                 21          1\n",
       "51               5       47209                 22          0\n",
       "52               5       46522                 23          0\n",
       "53               5       38693                 24          0\n",
       "54               5       48825                 25          0\n",
       "55               5        8479                 26          0\n",
       "56               6       40462                  1          0\n",
       "57               6       15873                  2          0\n",
       "58               6       41897                  3          0\n",
       "59               7       34050                  1          0\n",
       "60               7       46802                  2          0\n",
       "61               8       23423                  1          1\n",
       "62               9       21405                  1          0\n",
       "63               9       47890                  2          1\n",
       "64               9       11182                  3          0\n",
       "65               9        2014                  4          1\n",
       "66               9       29193                  5          1\n",
       "67               9       34203                  6          1\n",
       "68               9       14992                  7          1\n",
       "69               9       31506                  8          1\n",
       "70               9       23288                  9          0\n",
       "71               9       44533                 10          1\n",
       "72               9       18362                 11          0\n",
       "73               9       27366                 12          1\n",
       "74               9         432                 13          1\n",
       "75               9        3990                 14          1\n",
       "76               9       14183                 15          0\n",
       "77              10       24852                  1          1\n",
       "78              10        4796                  2          1\n",
       "79              10       31717                  3          0\n",
       "80              10       47766                  4          1\n",
       "81              10        4605                  5          1\n",
       "82              10        1529                  6          0\n",
       "83              10       21137                  7          1\n",
       "84              10       22122                  8          1\n",
       "85              10       34134                  9          1\n",
       "86              10       27156                 10          0\n",
       "87              10       14992                 11          0\n",
       "88              10       49235                 12          1\n",
       "89              10       26842                 13          0\n",
       "90              10        3464                 14          0\n",
       "91              10       25720                 15          0\n",
       "92              11       30162                  1          1\n",
       "93              11       27085                  2          1\n",
       "94              11        5994                  3          1\n",
       "95              11        1313                  4          1\n",
       "96              11       31506                  5          1\n",
       "97              12       30597                  1          1\n",
       "98              12       15221                  2          1\n",
       "99              12       43772                  3          1\n",
       "...            ...         ...                ...        ...\n",
       "32434389   3421068        9175                 13          0\n",
       "32434390   3421068       10957                 14          0\n",
       "32434391   3421069       28199                  1          1\n",
       "32434392   3421069        9426                  2          0\n",
       "32434393   3421069       46667                  3          1\n",
       "32434394   3421069       10831                  4          1\n",
       "32434395   3421069       27966                  5          1\n",
       "32434396   3421069       34243                  6          1\n",
       "32434397   3421069       38383                  7          1\n",
       "32434398   3421069       21137                  8          1\n",
       "32434399   3421069       30391                  9          1\n",
       "32434400   3421069       18656                 10          1\n",
       "32434401   3421069       26940                 11          1\n",
       "32434402   3421069       19057                 12          1\n",
       "32434403   3421071       26919                  1          0\n",
       "32434404   3421071       21791                  2          0\n",
       "32434405   3421071       35921                  3          0\n",
       "32434406   3421071       32293                  4          1\n",
       "32434407   3421071       34270                  5          0\n",
       "32434408   3421072       31553                  1          0\n",
       "32434409   3421072        4302                  2          0\n",
       "32434410   3421072       10246                  3          0\n",
       "32434411   3421072        6999                  4          0\n",
       "32434412   3421072       26209                  5          0\n",
       "32434413   3421072       28134                  6          0\n",
       "32434414   3421072       10863                  7          0\n",
       "32434415   3421072       38275                  8          1\n",
       "32434416   3421072       25647                  9          1\n",
       "32434417   3421072       20144                 10          1\n",
       "32434418   3421072        6473                 11          0\n",
       "32434419   3421072       20061                 12          0\n",
       "32434420   3421073       49187                  1          0\n",
       "32434421   3421073       20126                  2          0\n",
       "32434422   3421074       12987                  1          1\n",
       "32434423   3421074        1640                  2          0\n",
       "32434424   3421074       29066                  3          0\n",
       "32434425   3421074       49383                  4          0\n",
       "32434426   3421075       49429                  1          1\n",
       "32434427   3421075       18721                  2          1\n",
       "32434428   3421075       34027                  3          1\n",
       "32434429   3421075       14227                  4          1\n",
       "32434430   3421075       25153                  5          1\n",
       "32434431   3421075       43409                  6          1\n",
       "32434432   3421075       47941                  7          1\n",
       "32434433   3421075        3873                  8          1\n",
       "32434434   3421076       48101                  1          0\n",
       "32434435   3421076       25718                  2          1\n",
       "32434436   3421076       19348                  3          1\n",
       "32434437   3421076       17878                  4          1\n",
       "32434438   3421076       17487                  5          1\n",
       "32434439   3421076       28849                  6          1\n",
       "32434440   3421076       47114                  7          1\n",
       "32434441   3421076       44560                  8          1\n",
       "32434442   3421077       27966                  1          0\n",
       "32434443   3421077       45007                  2          0\n",
       "32434444   3421077       26940                  3          0\n",
       "32434445   3421077       27845                  4          0\n",
       "32434446   3421078       37646                  1          1\n",
       "32434447   3421078       24852                  2          1\n",
       "32434448   3421078       38656                  3          1\n",
       "32434449   3421078       48577                  4          1\n",
       "32434450   3421078       22760                  5          1\n",
       "32434451   3421078       33750                  6          1\n",
       "32434452   3421078       41844                  7          0\n",
       "32434453   3421078       40396                  8          1\n",
       "32434454   3421078       14553                  9          0\n",
       "32434455   3421079       30136                  1          0\n",
       "32434456   3421080       27845                  1          1\n",
       "32434457   3421080        4932                  2          1\n",
       "32434458   3421080       18811                  3          1\n",
       "32434459   3421080       41950                  4          0\n",
       "32434460   3421080       31717                  5          0\n",
       "32434461   3421080       12935                  6          1\n",
       "32434462   3421080       25122                  7          0\n",
       "32434463   3421080       10667                  8          0\n",
       "32434464   3421080       38061                  9          0\n",
       "32434465   3421081       38185                  1          0\n",
       "32434466   3421081       12218                  2          0\n",
       "32434467   3421081       32299                  3          0\n",
       "32434468   3421081        3060                  4          0\n",
       "32434469   3421081       20539                  5          0\n",
       "32434470   3421081       35221                  6          0\n",
       "32434471   3421081       12861                  7          0\n",
       "32434472   3421082       17279                  1          1\n",
       "32434473   3421082       12738                  2          1\n",
       "32434474   3421082       16797                  3          0\n",
       "32434475   3421082       43352                  4          1\n",
       "32434476   3421082       32700                  5          1\n",
       "32434477   3421082       12023                  6          0\n",
       "32434478   3421082       47941                  7          0\n",
       "32434479   3421083        7854                  1          0\n",
       "32434480   3421083       45309                  2          0\n",
       "32434481   3421083       21162                  3          0\n",
       "32434482   3421083       18176                  4          1\n",
       "32434483   3421083       35211                  5          0\n",
       "32434484   3421083       39678                  6          1\n",
       "32434485   3421083       11352                  7          0\n",
       "32434486   3421083        4600                  8          0\n",
       "32434487   3421083       24852                  9          1\n",
       "32434488   3421083        5020                 10          1\n",
       "\n",
       "[32434489 rows x 4 columns]"
      ]
     },
     "execution_count": 4,
     "metadata": {},
     "output_type": "execute_result"
    }
   ],
   "source": [
    "ordprodp"
   ]
  },
  {
   "cell_type": "markdown",
   "metadata": {},
   "source": [
    "#### Product name level features"
   ]
  },
  {
   "cell_type": "code",
   "execution_count": 4,
   "metadata": {
    "collapsed": true
   },
   "outputs": [],
   "source": [
    "def check_entries(df, col, value):\n",
    "    return df.loc[df[col].str.contains(value)]"
   ]
  },
  {
   "cell_type": "code",
   "execution_count": 5,
   "metadata": {
    "collapsed": true
   },
   "outputs": [],
   "source": [
    "# products = products.set_index('product_id')\n",
    "# aisles = aisles.set_index('aisle_id')\n",
    "# depart = depart.set_index('department_id')"
   ]
  },
  {
   "cell_type": "code",
   "execution_count": 6,
   "metadata": {},
   "outputs": [
    {
     "name": "stderr",
     "output_type": "stream",
     "text": [
      "/home/jingw222/anaconda3/lib/python3.6/site-packages/ipykernel_launcher.py:4: UserWarning: This pattern has match groups. To actually get the groups, use str.extract.\n",
      "  after removing the cwd from sys.path.\n",
      "/home/jingw222/anaconda3/lib/python3.6/site-packages/ipykernel_launcher.py:5: UserWarning: This pattern has match groups. To actually get the groups, use str.extract.\n",
      "  \"\"\"\n",
      "/home/jingw222/anaconda3/lib/python3.6/site-packages/ipykernel_launcher.py:6: UserWarning: This pattern has match groups. To actually get the groups, use str.extract.\n",
      "  \n",
      "/home/jingw222/anaconda3/lib/python3.6/site-packages/ipykernel_launcher.py:7: UserWarning: This pattern has match groups. To actually get the groups, use str.extract.\n",
      "  import sys\n"
     ]
    }
   ],
   "source": [
    "products['product_name_len'] = products['product_name'].str.split(r' |-').apply(len)\n",
    "products['product_name_organic'] = products['product_name'].str.contains('[Oo]rganic') * 1\n",
    "products['product_name_percent'] = products['product_name'].str.contains('%') * 1\n",
    "products['product_name_non'] = products['product_name'].str.contains('([Ff]ree)|([Ll]ess)|(\\\\b[Ll]ow\\\\b)|([Nn]on)|([Zz]ero)|(\\\\b[Ll]ow)|(\\\\b[Nn]o\\\\b[^\\\\.])|(Un)|(Reduced)') * 1\n",
    "products['product_name_origin'] = products['product_name'].str.contains('([Oo]riginal)|([Nn]atural)|([Vv]anilla)|([Pp]lain)|(\\\\b[Ff]resh\\\\b)|(Healthy)|(Raw)|(Wholesome)|(Superfood)') * 1\n",
    "products['product_name_super'] = products['product_name'].str.contains('([Pp]remium)|(Special)|([Uu]ltra)|(Extra//b)|([Pp]lus)|([Ss]upreme)|(All\\\\b)|([Ss]trong)|([Ll]arge)|([Ee]xtreme)|([Uu]ltimate)|(Super)|([Pp]urified)|([Pp]ure)|(Whole\\\\b)|(Perfect)|([Mm]ulti\\\\b)') * 1\n",
    "products['product_name_with'] = products['product_name'].str.contains('([Ww]ith)|(\\+)|(\\&)') * 1\n",
    "\n",
    "products.drop('product_name', axis=1, inplace=True)"
   ]
  },
  {
   "cell_type": "markdown",
   "metadata": {
    "heading_collapsed": true
   },
   "source": [
    "#### Create subsamples to play with"
   ]
  },
  {
   "cell_type": "code",
   "execution_count": 15,
   "metadata": {
    "collapsed": true,
    "hidden": true
   },
   "outputs": [],
   "source": [
    "x = orders.loc[orders['eval_set']=='train'].groupby('user_id')['order_number'].max()\n",
    "y = orders.loc[orders['eval_set']=='test'].groupby('user_id')['order_number'].max()\n"
   ]
  },
  {
   "cell_type": "code",
   "execution_count": 26,
   "metadata": {
    "hidden": true
   },
   "outputs": [
    {
     "data": {
      "text/plain": [
       "(131209, 75000)"
      ]
     },
     "execution_count": 26,
     "metadata": {},
     "output_type": "execute_result"
    }
   ],
   "source": [
    "len(x), len(y)"
   ]
  },
  {
   "cell_type": "code",
   "execution_count": 18,
   "metadata": {
    "hidden": true,
    "scrolled": true
   },
   "outputs": [
    {
     "data": {
      "text/plain": [
       "<matplotlib.axes._subplots.AxesSubplot at 0x7f5575ed6358>"
      ]
     },
     "execution_count": 18,
     "metadata": {},
     "output_type": "execute_result"
    },
    {
     "data": {
      "image/png": "[encoded data removed]",
      "text/plain": [
       "<matplotlib.figure.Figure at 0x7f5572aa3f98>"
      ]
     },
     "metadata": {},
     "output_type": "display_data"
    }
   ],
   "source": [
    "sns.distplot(x, bins=100)"
   ]
  },
  {
   "cell_type": "code",
   "execution_count": 31,
   "metadata": {
    "hidden": true,
    "scrolled": true
   },
   "outputs": [
    {
     "name": "stderr",
     "output_type": "stream",
     "text": [
      "/home/jingw222/anaconda3/lib/python3.6/site-packages/rpy2/rinterface/__init__.py:186: RRuntimeWarning: `stat_bin()` using `bins = 30`. Pick better value with `binwidth`.\n",
      "\n",
      "  warnings.warn(x, RRuntimeWarning)\n"
     ]
    },
    {
     "data": {
      "image/png": "[encoded data removed]"
     },
     "metadata": {},
     "output_type": "display_data"
    }
   ],
   "source": [
    "%%R -i x\n",
    "library(ggplot2)\n",
    "ggplot(x, aes(order_number)) + geom_histogram()\n"
   ]
  },
  {
   "cell_type": "code",
   "execution_count": 7,
   "metadata": {
    "collapsed": true,
    "hidden": true
   },
   "outputs": [],
   "source": [
    "train_user_id = orders.loc[orders['eval_set']=='train', 'user_id'].values\n",
    "test_user_id = orders.loc[orders['eval_set']=='test', 'user_id'].values"
   ]
  },
  {
   "cell_type": "code",
   "execution_count": 10,
   "metadata": {
    "hidden": true,
    "scrolled": true
   },
   "outputs": [
    {
     "data": {
      "text/plain": [
       "(131209, 75000)"
      ]
     },
     "execution_count": 10,
     "metadata": {},
     "output_type": "execute_result"
    }
   ],
   "source": [
    "len(train_user_id), len(test_user_id)"
   ]
  },
  {
   "cell_type": "code",
   "execution_count": null,
   "metadata": {
    "collapsed": true,
    "hidden": true
   },
   "outputs": [],
   "source": [
    "train_user_id_sub = np.random.choice(train_user_id, size=round(0.9*len(train_user_id)), replace=False)\n",
    "orders = orders.loc[~orders['user_id'].isin(train_user_id_sub)]\n",
    "\n",
    "ordprodp = ordprodp.loc[ordprodp['order_id'].isin(orders['order_id'])]\n",
    "ordprodt = ordprodt.loc[ordprodt['order_id'].isin(orders['order_id'])]"
   ]
  },
  {
   "cell_type": "code",
   "execution_count": null,
   "metadata": {
    "collapsed": true,
    "hidden": true
   },
   "outputs": [],
   "source": [
    "# orders = orders.loc[orders['user_id']<=100]\n",
    "# ordprodp = ordprodp.loc[ordprodp['order_id'].isin(orders['order_id'])]\n",
    "# ordprodt = ordprodt.loc[ordprodt['order_id'].isin(orders['order_id'])]"
   ]
  },
  {
   "cell_type": "markdown",
   "metadata": {},
   "source": [
    "#### Joining data"
   ]
  },
  {
   "cell_type": "code",
   "execution_count": 4,
   "metadata": {
    "collapsed": true
   },
   "outputs": [],
   "source": [
    "ordprodt = ordprodt.merge(orders[['order_id', 'user_id']], on='order_id')\n",
    "ordprodt = ordprodt.loc[ordprodt['reordered']==1]\n",
    "ordprodt.drop(['order_id', 'add_to_cart_order'], axis=1, inplace=True)"
   ]
  },
  {
   "cell_type": "code",
   "execution_count": 5,
   "metadata": {
    "collapsed": true
   },
   "outputs": [],
   "source": [
    "%%R -i orders -o orders\n",
    "orders <- orders %>% \n",
    "  group_by(user_id) %>%\n",
    "  mutate(cumsum_days = ifelse(is.na(days_since_prior_order), 0, days_since_prior_order),\n",
    "         cumsum_days = cumsum(cumsum_days)) %>%\n",
    "  as.data.frame()"
   ]
  },
  {
   "cell_type": "code",
   "execution_count": null,
   "metadata": {
    "collapsed": true
   },
   "outputs": [],
   "source": [
    "ordprodp = orders.merge(ordprodp, on='order_id')"
   ]
  },
  {
   "cell_type": "code",
   "execution_count": null,
   "metadata": {
    "collapsed": true
   },
   "outputs": [],
   "source": [
    "%%R -i ordprodp -o avg_user_prod_period,avg_prod_period\n",
    "avg_user_prod_period <- ordprodp %>%\n",
    "  arrange(user_id, order_number, product_id) %>%\n",
    "  group_by(user_id, product_id) %>%\n",
    "  summarise(\n",
    "    avg_prod_period = (max(cumsum_days) - min(cumsum_days)) / (n() - 1),\n",
    "    cumsum_days_since_last_prod_user = max(cumsum_days)\n",
    "  ) %>%\n",
    "  as.data.frame() \n",
    "avg_prod_period <- avg_user_prod_period %>%\n",
    "  group_by(product_id) %>%\n",
    "  summarise(avg_prod_period = mean(avg_prod_period, na.rm=T)) %>%\n",
    "  as.data.frame()"
   ]
  },
  {
   "cell_type": "code",
   "execution_count": null,
   "metadata": {
    "collapsed": true
   },
   "outputs": [],
   "source": [
    "avg_user_prod_period = avg_user_prod_period.merge(products[['product_id', 'aisle_id', 'department_id']], on='product_id')\n",
    "\n",
    "avg_user_aisle_period = avg_user_prod_period.groupby(['user_id', 'aisle_id'])['avg_prod_period'].mean().rename('avg_user_aisle_period')\n",
    "avg_user_depart_period = avg_user_prod_period.groupby(['user_id', 'department_id'])['avg_prod_period'].mean().rename('avg_user_depart_period')\n",
    "\n",
    "avg_user_prod_period = avg_user_prod_period.merge(avg_user_aisle_period.to_frame(), left_on=['user_id', 'aisle_id'], right_index=True)\n",
    "avg_user_prod_period = avg_user_prod_period.merge(avg_user_depart_period.to_frame(), left_on=['user_id', 'department_id'], right_index=True)"
   ]
  },
  {
   "cell_type": "code",
   "execution_count": null,
   "metadata": {
    "collapsed": true
   },
   "outputs": [],
   "source": [
    "del avg_user_aisle_period, avg_user_depart_period\n",
    "gc.collect()"
   ]
  },
  {
   "cell_type": "code",
   "execution_count": null,
   "metadata": {
    "collapsed": true
   },
   "outputs": [],
   "source": [
    "avg_user_prod_period['avg_prod_period'] = avg_user_prod_period['avg_prod_period'].where(avg_user_prod_period['avg_prod_period'].notnull(), avg_user_prod_period['avg_user_aisle_period'])\n",
    "avg_user_prod_period['avg_prod_period'] = avg_user_prod_period['avg_prod_period'].where(avg_user_prod_period['avg_prod_period'].notnull(), avg_user_prod_period['avg_user_depart_period'])"
   ]
  },
  {
   "cell_type": "code",
   "execution_count": null,
   "metadata": {
    "collapsed": true
   },
   "outputs": [],
   "source": [
    "avg_user_prod_period.drop(['avg_user_aisle_period', 'avg_user_depart_period'], axis=1, inplace=True)"
   ]
  },
  {
   "cell_type": "code",
   "execution_count": null,
   "metadata": {
    "collapsed": true
   },
   "outputs": [],
   "source": [
    "if any(avg_user_prod_period['avg_prod_period'].isnull()):\n",
    "    avg_user_period = avg_user_prod_period.groupby(['user_id'])['avg_prod_period'].mean().rename('avg_user_period')\n",
    "    avg_user_prod_period = avg_user_prod_period.merge(avg_user_period.to_frame(), left_on=['user_id'], right_index=True)\n",
    "    avg_user_prod_period['avg_prod_period'] = avg_user_prod_period['avg_prod_period'].where(avg_user_prod_period['avg_prod_period'].notnull(), avg_user_prod_period['avg_user_period'])\n",
    "    avg_user_prod_period.drop('avg_user_period', axis=1, inplace=True)"
   ]
  },
  {
   "cell_type": "code",
   "execution_count": null,
   "metadata": {
    "collapsed": true
   },
   "outputs": [],
   "source": [
    "%%R -i ordprodp -o prods\n",
    "\n",
    "prods <- ordprodp %>%\n",
    "  arrange(user_id, order_number, product_id) %>%\n",
    "  group_by(user_id, product_id) %>%\n",
    "  mutate(product_time = row_number()) %>%\n",
    "  ungroup() %>%\n",
    "  group_by(product_id) %>%\n",
    "  summarise(\n",
    "    prod_num_total = n(),\n",
    "    reorder_num = sum(reordered),\n",
    "    first_order = sum(product_time == 1),\n",
    "    second_order = sum(product_time == 2)\n",
    "  ) %>%\n",
    "  as.data.frame()"
   ]
  },
  {
   "cell_type": "code",
   "execution_count": null,
   "metadata": {
    "collapsed": true
   },
   "outputs": [],
   "source": [
    "prods['reorder_prob'] = prods['second_order'] / prods['first_order']\n",
    "prods['reorder_times'] = prods['prod_num_total'] / prods['first_order']\n",
    "prods['reorder_ratio'] = prods['reorder_num'] / prods['prod_num_total']\n",
    "prods = prods.drop(['reorder_num', 'first_order', 'second_order'], axis=1)\n",
    "\n",
    "prods = prods.merge(avg_prod_period, on='product_id')\n",
    "\n",
    "products = products.merge(prods, on='product_id').drop(['aisle_id', 'department_id'], axis=1)"
   ]
  },
  {
   "cell_type": "code",
   "execution_count": null,
   "metadata": {
    "collapsed": true
   },
   "outputs": [],
   "source": [
    "del prods, avg_prod_period\n",
    "gc.collect()"
   ]
  },
  {
   "cell_type": "markdown",
   "metadata": {},
   "source": [
    "#### User level features"
   ]
  },
  {
   "cell_type": "code",
   "execution_count": null,
   "metadata": {
    "collapsed": true
   },
   "outputs": [],
   "source": [
    "%%R -i orders -o users\n",
    "users <- orders %>%\n",
    "  filter(eval_set == \"prior\") %>%\n",
    "  group_by(user_id) %>%\n",
    "  summarise(\n",
    "    user_orders = max(order_number),\n",
    "    user_period = sum(days_since_prior_order, na.rm = T),\n",
    "    user_avg_order_period = mean(days_since_prior_order, na.rm = T)\n",
    "  ) %>%\n",
    "  as.data.frame()"
   ]
  },
  {
   "cell_type": "code",
   "execution_count": null,
   "metadata": {
    "collapsed": true
   },
   "outputs": [],
   "source": [
    "%%R -i ordprodp -o temp\n",
    "temp <- ordprodp %>% \n",
    "  group_by(user_id) %>% \n",
    "  summarise(\n",
    "    user_total_products = n(),\n",
    "    user_reorder_ratio = sum(reordered == 1) / sum(order_number > 1),\n",
    "    user_distinct_products = n_distinct(product_id)\n",
    "           ) %>%\n",
    "  mutate(user_prod_distinct_ratio = user_total_products / user_distinct_products) %>%\n",
    "  as.data.frame()"
   ]
  },
  {
   "cell_type": "code",
   "execution_count": null,
   "metadata": {
    "collapsed": true,
    "scrolled": true
   },
   "outputs": [],
   "source": [
    "users = users.merge(temp, on='user_id')"
   ]
  },
  {
   "cell_type": "code",
   "execution_count": null,
   "metadata": {
    "collapsed": true
   },
   "outputs": [],
   "source": [
    "del temp\n",
    "gc.collect()"
   ]
  },
  {
   "cell_type": "code",
   "execution_count": null,
   "metadata": {
    "collapsed": true
   },
   "outputs": [],
   "source": [
    "users['user_avg_basket'] = users['user_total_products'] / users['user_orders']\n",
    "users['user_avg_dist_basket'] = users['user_distinct_products'] / users['user_orders']\n",
    "\n",
    "users['user_avg_prod_period'] = users['user_total_products'] / users['user_period']\n",
    "users['user_avg_dist_prod_period'] = users['user_distinct_products'] / users['user_period']\n",
    "\n",
    "users.drop(['user_total_products', 'user_distinct_products'], axis=1, inplace=True)"
   ]
  },
  {
   "cell_type": "code",
   "execution_count": null,
   "metadata": {
    "collapsed": true
   },
   "outputs": [],
   "source": [
    "%%R -i orders -o temp\n",
    "temp <- orders %>% filter(eval_set!='prior') %>% select(-order_number)"
   ]
  },
  {
   "cell_type": "code",
   "execution_count": null,
   "metadata": {
    "collapsed": true,
    "scrolled": true
   },
   "outputs": [],
   "source": [
    "avg_user_prod_period = avg_user_prod_period.merge(temp[['user_id', 'cumsum_days']], on='user_id')\n",
    "\n",
    "avg_user_prod_period['days_since_last_prod'] = avg_user_prod_period['cumsum_days'] - avg_user_prod_period['cumsum_days_since_last_prod_user']\n",
    "avg_user_prod_period = avg_user_prod_period.drop(['cumsum_days_since_last_prod_user', 'cumsum_days'], axis=1)"
   ]
  },
  {
   "cell_type": "code",
   "execution_count": null,
   "metadata": {
    "collapsed": true,
    "scrolled": true
   },
   "outputs": [],
   "source": [
    "users = users.merge(temp.drop(['cumsum_days', 'order_dow', 'order_hour_of_day'], axis=1), on='user_id')"
   ]
  },
  {
   "cell_type": "code",
   "execution_count": null,
   "metadata": {
    "collapsed": true
   },
   "outputs": [],
   "source": [
    "ordprodp = ordprodp.merge(temp[['user_id', 'order_dow', 'order_hour_of_day']], on='user_id')"
   ]
  },
  {
   "cell_type": "code",
   "execution_count": null,
   "metadata": {
    "collapsed": true
   },
   "outputs": [],
   "source": [
    "del temp\n",
    "gc.collect()"
   ]
  },
  {
   "cell_type": "markdown",
   "metadata": {},
   "source": [
    "#### join databases"
   ]
  },
  {
   "cell_type": "code",
   "execution_count": null,
   "metadata": {
    "collapsed": true,
    "scrolled": true
   },
   "outputs": [],
   "source": [
    "%%R -i ordprodp -o data\n",
    "dow_range <- function(trn, pred){\n",
    "    return(ifelse(abs(trn-pred)<=3, abs(trn-pred),7-abs(trn-pred)))\n",
    "}\n",
    "\n",
    "hour_range <- function(trn, pred){\n",
    "    return(ifelse(abs(trn-pred)<=12, abs(trn-pred),24-abs(trn-pred)))\n",
    "}\n",
    "\n",
    "data <- ordprodp %>% \n",
    "  mutate(\n",
    "    dow_range = dow_range(order_dow_x, order_dow_y),\n",
    "    hour_range = hour_range(order_hour_of_day_x, order_hour_of_day_y)\n",
    "  ) %>% \n",
    "  group_by(user_id, product_id) %>% \n",
    "  summarise(\n",
    "    up_orders = n(),\n",
    "    up_first_order = min(order_number),\n",
    "    up_last_order = max(order_number),\n",
    "    up_average_cart_position = mean(add_to_cart_order),\n",
    "    avg_dow_range = mean(dow_range),\n",
    "    avg_hour_range = mean(hour_range)\n",
    "  ) %>%\n",
    "  as.data.frame()"
   ]
  },
  {
   "cell_type": "code",
   "execution_count": null,
   "metadata": {
    "collapsed": true
   },
   "outputs": [],
   "source": [
    "del ordprodp, orders\n",
    "gc.collect()"
   ]
  },
  {
   "cell_type": "code",
   "execution_count": null,
   "metadata": {
    "collapsed": true
   },
   "outputs": [],
   "source": [
    "data = data.merge(avg_user_prod_period.drop(['aisle_id', 'department_id'], axis=1), on=['user_id', 'product_id'])"
   ]
  },
  {
   "cell_type": "code",
   "execution_count": null,
   "metadata": {
    "collapsed": true
   },
   "outputs": [],
   "source": [
    "del avg_user_prod_period\n",
    "gc.collect()"
   ]
  },
  {
   "cell_type": "code",
   "execution_count": null,
   "metadata": {
    "collapsed": true
   },
   "outputs": [],
   "source": [
    "data = data.merge(users, on='user_id').merge(products, on='product_id')"
   ]
  },
  {
   "cell_type": "code",
   "execution_count": null,
   "metadata": {
    "collapsed": true
   },
   "outputs": [],
   "source": [
    "del users, products\n",
    "gc.collect()"
   ]
  },
  {
   "cell_type": "code",
   "execution_count": null,
   "metadata": {
    "collapsed": true
   },
   "outputs": [],
   "source": [
    "data['up_order_rate'] = data['up_orders'] / data['user_orders']\n",
    "data['up_order_rate_since_first_order'] = data['up_orders'] / (data['user_orders'] - data['up_first_order'] + 1)\n",
    "data['up_orders_since_last_order'] = data['user_orders'] - data['up_last_order']"
   ]
  },
  {
   "cell_type": "code",
   "execution_count": null,
   "metadata": {
    "collapsed": true
   },
   "outputs": [],
   "source": [
    "data = data.merge(ordprodt, how='left', on=['user_id', 'product_id'])"
   ]
  },
  {
   "cell_type": "code",
   "execution_count": null,
   "metadata": {
    "collapsed": true
   },
   "outputs": [],
   "source": [
    "del ordprodt\n",
    "gc.collect()"
   ]
  },
  {
   "cell_type": "code",
   "execution_count": null,
   "metadata": {
    "collapsed": true
   },
   "outputs": [],
   "source": [
    "data = data.sort_values(['user_id', 'product_id'])"
   ]
  },
  {
   "cell_type": "code",
   "execution_count": null,
   "metadata": {
    "collapsed": true
   },
   "outputs": [],
   "source": []
  },
  {
   "cell_type": "markdown",
   "metadata": {},
   "source": [
    "## Training"
   ]
  },
  {
   "cell_type": "code",
   "execution_count": null,
   "metadata": {
    "collapsed": true
   },
   "outputs": [],
   "source": [
    "train = data[data['eval_set']=='train']\n",
    "test = data[data['eval_set']=='test']"
   ]
  },
  {
   "cell_type": "code",
   "execution_count": null,
   "metadata": {
    "collapsed": true
   },
   "outputs": [],
   "source": [
    "train = train.drop(['user_id', 'product_id', 'eval_set', 'order_id'], axis=1)\n",
    "test = test.drop(['eval_set', 'user_id'], axis=1)"
   ]
  },
  {
   "cell_type": "code",
   "execution_count": null,
   "metadata": {
    "collapsed": true
   },
   "outputs": [],
   "source": [
    "del data\n",
    "gc.collect()"
   ]
  },
  {
   "cell_type": "code",
   "execution_count": null,
   "metadata": {
    "collapsed": true
   },
   "outputs": [],
   "source": [
    "train.head()"
   ]
  },
  {
   "cell_type": "code",
   "execution_count": null,
   "metadata": {
    "collapsed": true
   },
   "outputs": [],
   "source": [
    "test.head()"
   ]
  },
  {
   "cell_type": "code",
   "execution_count": null,
   "metadata": {
    "collapsed": true
   },
   "outputs": [],
   "source": []
  },
  {
   "cell_type": "markdown",
   "metadata": {
    "collapsed": true
   },
   "source": [
    "# User embeddings"
   ]
  },
  {
   "cell_type": "code",
   "execution_count": null,
   "metadata": {
    "collapsed": true
   },
   "outputs": [],
   "source": [
    "%matplotlib inline\n",
    "\n",
    "import pandas as pd\n",
    "import numpy as np\n",
    "import matplotlib.pyplot as plt\n",
    "import seaborn as sns\n",
    "\n",
    "pd.options.display.max_rows=200\n",
    "pd.options.display.max_columns=200"
   ]
  },
  {
   "cell_type": "code",
   "execution_count": null,
   "metadata": {
    "collapsed": true
   },
   "outputs": [],
   "source": [
    "dtype = {'order_id': np.int32, 'product_id': np.uint16, 'add_to_cart_order': np.uint8, 'reordered': np.int8,\n",
    "        'user_id': np.int32, 'eval_set': np.int8, 'order_number': np.int8, 'order_dow': np.int8, \n",
    "         'order_hour_of_day': np.int8, 'days_since_prior_order': np.int16, 'cumsum_days_since_prior_order': np.int16}"
   ]
  },
  {
   "cell_type": "code",
   "execution_count": null,
   "metadata": {
    "collapsed": true
   },
   "outputs": [],
   "source": [
    "ord_pri_train = pd.read_csv('./data/stats/ord_pri_train.csv', dtype=dtype)\n",
    "ord_pri_test = pd.read_csv('./data/stats/ord_pri_test.csv', dtype=dtype)"
   ]
  },
  {
   "cell_type": "code",
   "execution_count": null,
   "metadata": {
    "collapsed": true
   },
   "outputs": [],
   "source": [
    "products = pd.read_csv('./data/stats/products.csv', index_col='product_id')"
   ]
  },
  {
   "cell_type": "markdown",
   "metadata": {
    "heading_collapsed": true
   },
   "source": [
    "## user and aisle embeddings"
   ]
  },
  {
   "cell_type": "code",
   "execution_count": null,
   "metadata": {
    "collapsed": true,
    "hidden": true
   },
   "outputs": [],
   "source": [
    "# ord_trn = pd.read_csv('./data/stats/ord_trn.csv', dtype=dtype)"
   ]
  },
  {
   "cell_type": "code",
   "execution_count": null,
   "metadata": {
    "collapsed": true,
    "hidden": true
   },
   "outputs": [],
   "source": [
    "# orders_train = pd.read_csv('./data/stats/orders_train.csv', dtype=dtype)\n",
    "# orders_test = pd.read_csv('./data/stats/orders_test.csv', dtype=dtype)"
   ]
  },
  {
   "cell_type": "code",
   "execution_count": null,
   "metadata": {
    "collapsed": true,
    "hidden": true
   },
   "outputs": [],
   "source": [
    "# orders_train_eval1 = pd.read_csv('./data/stats/orders_train_eval1.csv', dtype=dtype)\n",
    "# orders_test_eval1 = pd.read_csv('./data/stats/orders_test_eval1.csv')"
   ]
  },
  {
   "cell_type": "code",
   "execution_count": null,
   "metadata": {
    "collapsed": true,
    "hidden": true
   },
   "outputs": [],
   "source": []
  },
  {
   "cell_type": "code",
   "execution_count": null,
   "metadata": {
    "collapsed": true,
    "hidden": true
   },
   "outputs": [],
   "source": [
    "ord_pri_train.shape, ord_pri_test.shape "
   ]
  },
  {
   "cell_type": "code",
   "execution_count": null,
   "metadata": {
    "collapsed": true,
    "hidden": true
   },
   "outputs": [],
   "source": [
    "embed_train = ord_pri_train[['product_id', 'user_id']].join(products, on='product_id')\n",
    "embed_test = ord_pri_test[['product_id', 'user_id']].join(products, on='product_id')"
   ]
  },
  {
   "cell_type": "code",
   "execution_count": null,
   "metadata": {
    "collapsed": true,
    "hidden": true
   },
   "outputs": [],
   "source": [
    "embed = pd.concat((embed_train, embed_test), ignore_index=True)"
   ]
  },
  {
   "cell_type": "code",
   "execution_count": null,
   "metadata": {
    "collapsed": true,
    "hidden": true
   },
   "outputs": [],
   "source": [
    "embed"
   ]
  },
  {
   "cell_type": "code",
   "execution_count": null,
   "metadata": {
    "collapsed": true,
    "hidden": true
   },
   "outputs": [],
   "source": [
    "embed['user_id'].nunique(), embed_train['user_id'].nunique(), embed_test['user_id'].nunique()"
   ]
  },
  {
   "cell_type": "code",
   "execution_count": null,
   "metadata": {
    "collapsed": true,
    "hidden": true
   },
   "outputs": [],
   "source": [
    "aisle_counts_per_user = embed.groupby(['user_id', 'aisle_id'])['aisle_id'].count().unstack().fillna(0).astype(np.int16)"
   ]
  },
  {
   "cell_type": "code",
   "execution_count": null,
   "metadata": {
    "collapsed": true,
    "hidden": true
   },
   "outputs": [],
   "source": [
    "# depart_counts_per_user = embed.groupby(['user_id', 'department_id'])['department_id'].count().unstack().fillna(0).astype(np.int16)"
   ]
  },
  {
   "cell_type": "code",
   "execution_count": null,
   "metadata": {
    "collapsed": true,
    "hidden": true
   },
   "outputs": [],
   "source": [
    "aisle_ratio_per_user = aisle_counts_per_user.apply(lambda x: x/x.sum(), axis=1)"
   ]
  },
  {
   "cell_type": "code",
   "execution_count": null,
   "metadata": {
    "collapsed": true,
    "hidden": true
   },
   "outputs": [],
   "source": [
    "pd.DataFrame.stack()"
   ]
  },
  {
   "cell_type": "code",
   "execution_count": null,
   "metadata": {
    "collapsed": true,
    "hidden": true,
    "scrolled": true
   },
   "outputs": [],
   "source": [
    "aisle_ratio_per_user = aisle_ratio_per_user.stack().rename('ratio').replace(0, np.nan).dropna().reset_index()"
   ]
  },
  {
   "cell_type": "code",
   "execution_count": null,
   "metadata": {
    "collapsed": true,
    "hidden": true
   },
   "outputs": [],
   "source": [
    "aisle_ratio_per_user.shape"
   ]
  },
  {
   "cell_type": "code",
   "execution_count": null,
   "metadata": {
    "collapsed": true,
    "hidden": true
   },
   "outputs": [],
   "source": [
    "aisle_ratio_per_user.to_csv('./data/stats/aisle_ratio_per_user.csv', index=False)"
   ]
  },
  {
   "cell_type": "code",
   "execution_count": null,
   "metadata": {
    "collapsed": true,
    "hidden": true
   },
   "outputs": [],
   "source": []
  },
  {
   "cell_type": "code",
   "execution_count": null,
   "metadata": {
    "collapsed": true,
    "hidden": true
   },
   "outputs": [],
   "source": [
    "aisle_ratio_per_user = pd.read_csv('./data/stats/aisle_ratio_per_user.csv')"
   ]
  },
  {
   "cell_type": "code",
   "execution_count": null,
   "metadata": {
    "collapsed": true,
    "hidden": true
   },
   "outputs": [],
   "source": [
    "n_users, n_aisles = aisle_ratio_per_user['user_id'].nunique(), aisle_ratio_per_user['aisle_id'].nunique()"
   ]
  },
  {
   "cell_type": "code",
   "execution_count": null,
   "metadata": {
    "collapsed": true,
    "hidden": true
   },
   "outputs": [],
   "source": [
    "n_users, n_aisles"
   ]
  },
  {
   "cell_type": "code",
   "execution_count": null,
   "metadata": {
    "collapsed": true,
    "hidden": true
   },
   "outputs": [],
   "source": [
    "aisle_ratio_per_user.info()"
   ]
  },
  {
   "cell_type": "code",
   "execution_count": null,
   "metadata": {
    "collapsed": true,
    "hidden": true
   },
   "outputs": [],
   "source": [
    "aisle_ratio_per_user['user_id'] -= 1\n",
    "aisle_ratio_per_user['aisle_id'] -= 1"
   ]
  },
  {
   "cell_type": "code",
   "execution_count": null,
   "metadata": {
    "collapsed": true,
    "hidden": true
   },
   "outputs": [],
   "source": [
    "aisle_ratio_per_user.head(30)"
   ]
  },
  {
   "cell_type": "code",
   "execution_count": null,
   "metadata": {
    "collapsed": true,
    "hidden": true
   },
   "outputs": [],
   "source": [
    "train_mask = np.random.choice(aisle_ratio_per_user['user_id'].unique(), size=131209, replace=False)"
   ]
  },
  {
   "cell_type": "code",
   "execution_count": null,
   "metadata": {
    "collapsed": true,
    "hidden": true
   },
   "outputs": [],
   "source": [
    "train_mask"
   ]
  },
  {
   "cell_type": "code",
   "execution_count": null,
   "metadata": {
    "collapsed": true,
    "hidden": true
   },
   "outputs": [],
   "source": [
    "embed_train = aisle_ratio_per_user.loc[aisle_ratio_per_user['user_id'].isin(train_mask)]\n",
    "embed_valid = aisle_ratio_per_user.loc[~aisle_ratio_per_user['user_id'].isin(train_mask)]"
   ]
  },
  {
   "cell_type": "code",
   "execution_count": null,
   "metadata": {
    "collapsed": true,
    "hidden": true
   },
   "outputs": [],
   "source": [
    "embed_train.shape, embed_valid.shape"
   ]
  },
  {
   "cell_type": "code",
   "execution_count": null,
   "metadata": {
    "collapsed": true,
    "hidden": true
   },
   "outputs": [],
   "source": [
    "n_users, n_aisles"
   ]
  },
  {
   "cell_type": "code",
   "execution_count": null,
   "metadata": {
    "collapsed": true,
    "hidden": true
   },
   "outputs": [],
   "source": [
    "from keras.regularizers import l2\n",
    "from keras.models import Model\n",
    "from keras.layers import Dense, Flatten, Dropout, Input, Embedding\n",
    "from keras.layers.merge import concatenate\n",
    "from keras.optimizers import Adam"
   ]
  },
  {
   "cell_type": "code",
   "execution_count": null,
   "metadata": {
    "collapsed": true,
    "hidden": true
   },
   "outputs": [],
   "source": [
    "n_factors = 16\n",
    "\n",
    "user_in = Input(shape=(1,), dtype='int64', name='user_in')\n",
    "u = Embedding(n_users, n_factors, input_length=1)(user_in)\n",
    "aisle_in = Input(shape=(1,), dtype='int64', name='aisle_in')\n",
    "a = Embedding(n_aisles, n_factors, input_length=1)(aisle_in)\n",
    "\n",
    "x = concatenate([u, a])\n",
    "x = Flatten()(x)\n",
    "x = Dropout(0.5)(x)\n",
    "x = Dense(16, activation='relu')(x)\n",
    "x = Dropout(0.5)(x)\n",
    "x = Dense(1)(x)\n",
    "model = Model([user_in, aisle_in], x)\n",
    "model.compile(Adam(0.001), loss='mse')"
   ]
  },
  {
   "cell_type": "code",
   "execution_count": null,
   "metadata": {
    "collapsed": true,
    "hidden": true
   },
   "outputs": [],
   "source": [
    "model.fit([aisle_ratio_per_user['user_id'], aisle_ratio_per_user['aisle_id']], aisle_ratio_per_user['ratio'], batch_size=512, epochs=1)"
   ]
  },
  {
   "cell_type": "code",
   "execution_count": null,
   "metadata": {
    "collapsed": true,
    "hidden": true
   },
   "outputs": [],
   "source": [
    "model.summary()"
   ]
  },
  {
   "cell_type": "code",
   "execution_count": null,
   "metadata": {
    "collapsed": true,
    "hidden": true
   },
   "outputs": [],
   "source": [
    "model.get_layer('embedding_9').input_shape"
   ]
  },
  {
   "cell_type": "code",
   "execution_count": null,
   "metadata": {
    "collapsed": true,
    "hidden": true
   },
   "outputs": [],
   "source": [
    "model.get_layer('embedding_13').get_weights()[0]"
   ]
  },
  {
   "cell_type": "code",
   "execution_count": null,
   "metadata": {
    "collapsed": true,
    "hidden": true
   },
   "outputs": [],
   "source": [
    "model.get_layer('embedding_14').get_weights()[0]"
   ]
  },
  {
   "cell_type": "code",
   "execution_count": null,
   "metadata": {
    "collapsed": true,
    "hidden": true,
    "scrolled": true
   },
   "outputs": [],
   "source": [
    "user_embeddings = pd.DataFrame(data=model.get_layer('embedding_13').get_weights()[0],\n",
    "                               index=np.arange(n_users)+1)\n",
    "aisle_embeddings = pd.DataFrame(data=model.get_layer('embedding_14').get_weights()[0],\n",
    "                               index=np.arange(n_aisles)+1)"
   ]
  },
  {
   "cell_type": "code",
   "execution_count": null,
   "metadata": {
    "collapsed": true,
    "hidden": true
   },
   "outputs": [],
   "source": [
    "user_embeddings.to_csv('./data/stats/user_embeddings_noreg.csv', index_label='user_id')\n",
    "aisle_embeddings.to_csv('./data/stats/aisle_embeddings_noreg.csv', index_label='aisle_id')"
   ]
  },
  {
   "cell_type": "code",
   "execution_count": null,
   "metadata": {
    "collapsed": true,
    "hidden": true
   },
   "outputs": [],
   "source": []
  },
  {
   "cell_type": "markdown",
   "metadata": {},
   "source": [
    "## other embeddings"
   ]
  },
  {
   "cell_type": "code",
   "execution_count": null,
   "metadata": {
    "collapsed": true
   },
   "outputs": [],
   "source": [
    "ord_pri_train = ord_pri_train[['product_id', 'user_id', 'order_dow', 'order_hour_of_day']].join(products, on='product_id')\n",
    "ord_pri_test = ord_pri_test[['product_id', 'user_id', 'order_dow', 'order_hour_of_day']].join(products, on='product_id')"
   ]
  },
  {
   "cell_type": "code",
   "execution_count": null,
   "metadata": {
    "collapsed": true
   },
   "outputs": [],
   "source": [
    "ord_pri_train.drop(['product_id', 'department_id'], axis=1, inplace=True)\n",
    "ord_pri_test.drop(['product_id', 'department_id'], axis=1, inplace=True)"
   ]
  },
  {
   "cell_type": "code",
   "execution_count": null,
   "metadata": {
    "collapsed": true
   },
   "outputs": [],
   "source": [
    "ord_pri_train['user_id'] -= 1 \n",
    "ord_pri_test['user_id'] -= 1 \n",
    "\n",
    "ord_pri_train['aisle_id'] -= 1 \n",
    "ord_pri_test['aisle_id'] -= 1 "
   ]
  },
  {
   "cell_type": "code",
   "execution_count": null,
   "metadata": {
    "collapsed": true
   },
   "outputs": [],
   "source": [
    "ord_pri_train.shape, ord_pri_test.shape"
   ]
  },
  {
   "cell_type": "code",
   "execution_count": null,
   "metadata": {
    "collapsed": true
   },
   "outputs": [],
   "source": [
    "ord_pri = pd.concat((ord_pri_train, ord_pri_test), ignore_index=True)"
   ]
  },
  {
   "cell_type": "code",
   "execution_count": null,
   "metadata": {
    "collapsed": true
   },
   "outputs": [],
   "source": [
    "ord_pri.shape"
   ]
  },
  {
   "cell_type": "code",
   "execution_count": null,
   "metadata": {
    "collapsed": true
   },
   "outputs": [],
   "source": [
    "ord_pri = ord_pri.astype(np.int32)"
   ]
  },
  {
   "cell_type": "code",
   "execution_count": null,
   "metadata": {
    "collapsed": true
   },
   "outputs": [],
   "source": [
    "ord_pri.info()"
   ]
  },
  {
   "cell_type": "code",
   "execution_count": null,
   "metadata": {
    "collapsed": true
   },
   "outputs": [],
   "source": [
    "ord_pri.to_csv('./data/stats/ord_pri_embed.csv', index=False)"
   ]
  },
  {
   "cell_type": "code",
   "execution_count": null,
   "metadata": {
    "collapsed": true
   },
   "outputs": [],
   "source": []
  },
  {
   "cell_type": "code",
   "execution_count": null,
   "metadata": {
    "collapsed": true
   },
   "outputs": [],
   "source": [
    "ord_pri = pd.read_csv('./data/stats/ord_pri_embed.csv', dtype=np.int32)"
   ]
  },
  {
   "cell_type": "code",
   "execution_count": null,
   "metadata": {
    "collapsed": true
   },
   "outputs": [],
   "source": [
    "ord_pri.head()"
   ]
  },
  {
   "cell_type": "code",
   "execution_count": null,
   "metadata": {
    "collapsed": true
   },
   "outputs": [],
   "source": [
    "from keras.regularizers import l2\n",
    "from keras.models import Model\n",
    "from keras.layers import Dense, Flatten, Dropout, Input, Embedding\n",
    "from keras.layers.merge import concatenate\n",
    "from keras.initializers import he_uniform\n",
    "from keras.optimizers import Adam"
   ]
  },
  {
   "cell_type": "code",
   "execution_count": null,
   "metadata": {
    "collapsed": true
   },
   "outputs": [],
   "source": [
    "n_users = ord_pri['user_id'].nunique()\n",
    "n_dow = ord_pri['order_dow'].nunique()\n",
    "n_hour = ord_pri['order_hour_of_day'].nunique()\n",
    "n_aisles = ord_pri['aisle_id'].nunique()\n",
    "\n",
    "user_factors = 16\n",
    "dow_factors = 5\n",
    "hour_factors = 6\n",
    "\n",
    "emb_init = he_uniform(seed=12)\n",
    "\n",
    "user_in = Input(shape=(1,), dtype='int64', name='user_in')\n",
    "dow_in = Input(shape=(1,), dtype='int64', name='dow_in')\n",
    "hour_in = Input(shape=(1,), dtype='int64', name='hour_in')\n",
    "\n",
    "u = Embedding(n_users, user_factors, input_length=1, embeddings_initializer=emb_init)(user_in)\n",
    "d = Embedding(n_dow, dow_factors, input_length=1, embeddings_initializer=emb_init)(dow_in)\n",
    "h = Embedding(n_hour, hour_factors, input_length=1, embeddings_initializer=emb_init)(hour_in)\n",
    "\n",
    "\n",
    "x = concatenate([u, d, h])\n",
    "x = Flatten()(x)\n",
    "# x = Dropout(0.5)(x)\n",
    "x = Dense(18, activation='relu')(x)\n",
    "# x = Dropout(0.5)(x)\n",
    "x = Dense(n_aisles, activation='softmax')(x)\n",
    "model = Model([user_in, dow_in, hour_in], x)\n",
    "model.compile(Adam(0.001), loss='sparse_categorical_crossentropy', metrics=['sparse_categorical_accuracy'])"
   ]
  },
  {
   "cell_type": "code",
   "execution_count": null,
   "metadata": {
    "collapsed": true
   },
   "outputs": [],
   "source": [
    "model.fit([ord_pri['user_id'], ord_pri['order_dow'], ord_pri['order_hour_of_day']], ord_pri['aisle_id'], \n",
    "          batch_size=15000, \n",
    "          epochs=30,\n",
    "          shuffle=True,\n",
    "          initial_epoch=5)"
   ]
  },
  {
   "cell_type": "code",
   "execution_count": null,
   "metadata": {
    "collapsed": true,
    "scrolled": true
   },
   "outputs": [],
   "source": [
    "model.summary()"
   ]
  },
  {
   "cell_type": "code",
   "execution_count": null,
   "metadata": {
    "collapsed": true,
    "scrolled": true
   },
   "outputs": [],
   "source": [
    "model.get_layer('embedding_18').get_weights()"
   ]
  },
  {
   "cell_type": "code",
   "execution_count": null,
   "metadata": {
    "collapsed": true
   },
   "outputs": [],
   "source": [
    "user_embeddings = pd.DataFrame(data=model.get_layer('embedding_16').get_weights()[0],\n",
    "                               index=np.arange(n_users)+1, \n",
    "                               columns=['user_embed_{}'.format(i) for i in np.arange(user_factors)])\n",
    "dow_embeddings = pd.DataFrame(data=model.get_layer('embedding_17').get_weights()[0],\n",
    "                              index=np.arange(n_dow),\n",
    "                              columns=['dow_embed_{}'.format(i) for i in np.arange(dow_factors)])\n",
    "hour_embeddings = pd.DataFrame(data=model.get_layer('embedding_18').get_weights()[0],\n",
    "                               index=np.arange(n_hour), \n",
    "                               columns=['hour_embed_{}'.format(i) for i in np.arange(hour_factors)])"
   ]
  },
  {
   "cell_type": "code",
   "execution_count": null,
   "metadata": {
    "collapsed": true,
    "scrolled": true
   },
   "outputs": [],
   "source": [
    "dow_embeddings"
   ]
  },
  {
   "cell_type": "code",
   "execution_count": null,
   "metadata": {
    "collapsed": true
   },
   "outputs": [],
   "source": [
    "user_embeddings.to_csv('./data/stats/user_embeddings_.csv', index_label='user_id')\n",
    "dow_embeddings.to_csv('./data/stats/dow_embeddings_.csv', index_label='order_dow')\n",
    "hour_embeddings.to_csv('./data/stats/hour_embeddings_.csv', index_label='order_hour_of_day')\n"
   ]
  },
  {
   "cell_type": "code",
   "execution_count": null,
   "metadata": {
    "collapsed": true
   },
   "outputs": [],
   "source": []
  },
  {
   "cell_type": "code",
   "execution_count": null,
   "metadata": {
    "collapsed": true
   },
   "outputs": [],
   "source": []
  },
  {
   "cell_type": "code",
   "execution_count": null,
   "metadata": {
    "collapsed": true
   },
   "outputs": [],
   "source": []
  },
  {
   "cell_type": "code",
   "execution_count": null,
   "metadata": {
    "collapsed": true
   },
   "outputs": [],
   "source": []
  },
  {
   "cell_type": "code",
   "execution_count": null,
   "metadata": {
    "collapsed": true
   },
   "outputs": [],
   "source": []
  },
  {
   "cell_type": "code",
   "execution_count": null,
   "metadata": {
    "collapsed": true
   },
   "outputs": [],
   "source": [
    "len(orders_train_eval1)"
   ]
  },
  {
   "cell_type": "code",
   "execution_count": null,
   "metadata": {
    "collapsed": true
   },
   "outputs": [],
   "source": [
    "sample_idx = np.random.choice(orders_train_eval1['user_id'], size=1000, replace=False)\n",
    "\n",
    "sample = ord_pri_train.loc[ord_pri_train['user_id'].isin(sample_idx)]\n",
    "\n",
    "sample_eval = orders_train_eval1.loc[orders_train_eval1['user_id'].isin(sample_idx)]"
   ]
  },
  {
   "cell_type": "code",
   "execution_count": null,
   "metadata": {
    "collapsed": true
   },
   "outputs": [],
   "source": [
    "sample = sample.join(products, on='product_id')"
   ]
  },
  {
   "cell_type": "code",
   "execution_count": null,
   "metadata": {
    "collapsed": true,
    "scrolled": false
   },
   "outputs": [],
   "source": [
    "aisle_counts_per_user = sample.groupby(['user_id', 'aisle_id'])['aisle_id'].count().unstack().fillna(0).astype(np.int16)\n",
    "depart_counts_per_user = sample.groupby(['user_id', 'department_id'])['department_id'].count().unstack().fillna(0).astype(np.int16)"
   ]
  },
  {
   "cell_type": "code",
   "execution_count": null,
   "metadata": {
    "collapsed": true
   },
   "outputs": [],
   "source": [
    "aisle_ratio_per_user = aisle_counts_per_user.apply(lambda x: x/x.sum(), axis=1)\n",
    "depart_ratio_per_user = depart_counts_per_user.apply(lambda x: x/x.sum(), axis=1)"
   ]
  },
  {
   "cell_type": "code",
   "execution_count": null,
   "metadata": {
    "collapsed": true
   },
   "outputs": [],
   "source": []
  },
  {
   "cell_type": "code",
   "execution_count": null,
   "metadata": {
    "collapsed": true
   },
   "outputs": [],
   "source": []
  },
  {
   "cell_type": "code",
   "execution_count": null,
   "metadata": {
    "collapsed": true
   },
   "outputs": [],
   "source": []
  },
  {
   "cell_type": "code",
   "execution_count": null,
   "metadata": {
    "collapsed": true
   },
   "outputs": [],
   "source": []
  },
  {
   "cell_type": "code",
   "execution_count": null,
   "metadata": {
    "collapsed": true
   },
   "outputs": [],
   "source": []
  },
  {
   "cell_type": "code",
   "execution_count": null,
   "metadata": {
    "collapsed": true
   },
   "outputs": [],
   "source": []
  },
  {
   "cell_type": "code",
   "execution_count": null,
   "metadata": {
    "collapsed": true
   },
   "outputs": [],
   "source": []
  },
  {
   "cell_type": "code",
   "execution_count": null,
   "metadata": {
    "collapsed": true
   },
   "outputs": [],
   "source": [
    "from sklearn.cluster import KMeans, AgglomerativeClustering, DBSCAN\n",
    "from sklearn.decomposition import PCA\n",
    "from sklearn.manifold import TSNE"
   ]
  },
  {
   "cell_type": "code",
   "execution_count": null,
   "metadata": {
    "collapsed": true
   },
   "outputs": [],
   "source": [
    "pca = PCA(2, random_state=12)\n",
    "X_pca = pca.fit_transform(depart_ratio_per_user.values)"
   ]
  },
  {
   "cell_type": "code",
   "execution_count": null,
   "metadata": {
    "collapsed": true
   },
   "outputs": [],
   "source": [
    "tsne = TSNE(perplexity=100, random_state=120)\n",
    "X_tsne = tsne.fit_transform(depart_ratio_per_user.values)"
   ]
  },
  {
   "cell_type": "code",
   "execution_count": null,
   "metadata": {
    "collapsed": true
   },
   "outputs": [],
   "source": [
    "plt.scatter(X_tsne[:, 0], X_tsne[:, 1], c=kmeans.labels_, cmap='Dark2')"
   ]
  },
  {
   "cell_type": "code",
   "execution_count": null,
   "metadata": {
    "collapsed": true
   },
   "outputs": [],
   "source": [
    "plt.scatter(X_pca[:, 0], X_pca[:, 1], c=kmeans.labels_, cmap='Dark2')"
   ]
  },
  {
   "cell_type": "code",
   "execution_count": null,
   "metadata": {
    "collapsed": true
   },
   "outputs": [],
   "source": [
    "kmeans = KMeans(20, n_jobs=-1, n_init=50, max_iter=500, random_state=12)\n",
    "kmeans.fit(aisle_ratio_per_user.values)"
   ]
  },
  {
   "cell_type": "code",
   "execution_count": null,
   "metadata": {
    "collapsed": true
   },
   "outputs": [],
   "source": [
    "agglo = AgglomerativeClustering(20)\n",
    "assignment = agglo.fit_predict(depart_ratio_per_user.values)"
   ]
  },
  {
   "cell_type": "code",
   "execution_count": null,
   "metadata": {
    "collapsed": true
   },
   "outputs": [],
   "source": [
    "plt.scatter(X_pca[:, 0], X_pca[:, 1], c=assignment, cmap='Dark2')"
   ]
  },
  {
   "cell_type": "code",
   "execution_count": null,
   "metadata": {
    "collapsed": true
   },
   "outputs": [],
   "source": [
    "plt.scatter(X_tsne[:, 0], X_tsne[:, 1], c=assignment, cmap='Dark2')"
   ]
  },
  {
   "cell_type": "code",
   "execution_count": null,
   "metadata": {
    "collapsed": true
   },
   "outputs": [],
   "source": [
    "from scipy.cluster.hierarchy import dendrogram, ward"
   ]
  },
  {
   "cell_type": "code",
   "execution_count": null,
   "metadata": {
    "collapsed": true
   },
   "outputs": [],
   "source": [
    "linkage_array = ward(depart_ratio_per_user.values)\n",
    "dendrogram(linkage_array)"
   ]
  },
  {
   "cell_type": "code",
   "execution_count": null,
   "metadata": {
    "collapsed": true
   },
   "outputs": [],
   "source": []
  },
  {
   "cell_type": "code",
   "execution_count": null,
   "metadata": {
    "collapsed": true
   },
   "outputs": [],
   "source": []
  },
  {
   "cell_type": "code",
   "execution_count": null,
   "metadata": {
    "collapsed": true
   },
   "outputs": [],
   "source": []
  },
  {
   "cell_type": "code",
   "execution_count": null,
   "metadata": {
    "collapsed": true
   },
   "outputs": [],
   "source": []
  },
  {
   "cell_type": "markdown",
   "metadata": {},
   "source": [
    "# Feature engineering"
   ]
  },
  {
   "cell_type": "code",
   "execution_count": null,
   "metadata": {
    "collapsed": true
   },
   "outputs": [],
   "source": []
  },
  {
   "cell_type": "markdown",
   "metadata": {
    "heading_collapsed": true
   },
   "source": [
    "#### Load files"
   ]
  },
  {
   "cell_type": "code",
   "execution_count": null,
   "metadata": {
    "collapsed": true,
    "hidden": true
   },
   "outputs": [],
   "source": [
    "%matplotlib inline\n",
    "\n",
    "import pandas as pd\n",
    "import numpy as np\n",
    "import matplotlib.pyplot as plt\n",
    "import seaborn as sns\n",
    "\n",
    "pd.options.display.max_rows=200\n",
    "pd.options.display.max_columns=200"
   ]
  },
  {
   "cell_type": "code",
   "execution_count": null,
   "metadata": {
    "collapsed": true,
    "hidden": true
   },
   "outputs": [],
   "source": [
    "dtype = {'order_id': np.int32, 'product_id': np.uint16, 'add_to_cart_order': np.uint8, 'reordered': np.int8,\n",
    "        'user_id': np.int32, 'eval_set': np.int8, 'order_number': np.int8, 'order_dow': np.int8, \n",
    "         'order_hour_of_day': np.int8, 'days_since_prior_order': np.int16, 'cumsum_days_since_prior_order': np.int16}"
   ]
  },
  {
   "cell_type": "code",
   "execution_count": null,
   "metadata": {
    "collapsed": true,
    "hidden": true
   },
   "outputs": [],
   "source": [
    "ord_pri_train = pd.read_csv('./data/stats/ord_pri_train.csv', dtype=dtype)\n",
    "# ord_pri_test = pd.read_csv('./data/stats/ord_pri_test.csv', dtype=dtype)"
   ]
  },
  {
   "cell_type": "code",
   "execution_count": null,
   "metadata": {
    "collapsed": true,
    "hidden": true
   },
   "outputs": [],
   "source": [
    "products = pd.read_csv('./data/stats/products.csv', index_col='product_id')"
   ]
  },
  {
   "cell_type": "code",
   "execution_count": null,
   "metadata": {
    "collapsed": true,
    "hidden": true
   },
   "outputs": [],
   "source": [
    "ord_trn = pd.read_csv('./data/stats/ord_trn.csv', dtype=dtype)"
   ]
  },
  {
   "cell_type": "code",
   "execution_count": null,
   "metadata": {
    "collapsed": true,
    "hidden": true
   },
   "outputs": [],
   "source": [
    "orders_train_eval1 = pd.read_csv('./data/stats/orders_train_eval1.csv', dtype=dtype)\n",
    "# orders_test_eval1 = pd.read_csv('./data/stats/orders_test_eval1.csv', dtype=dtype)"
   ]
  },
  {
   "cell_type": "markdown",
   "metadata": {},
   "source": [
    "#### Create sample file"
   ]
  },
  {
   "cell_type": "code",
   "execution_count": null,
   "metadata": {
    "collapsed": true
   },
   "outputs": [],
   "source": [
    "sample_user_id = np.random.choice(ord_pri_train['user_id'].unique(), size=20, replace=False)"
   ]
  },
  {
   "cell_type": "code",
   "execution_count": null,
   "metadata": {
    "collapsed": true
   },
   "outputs": [],
   "source": [
    "sample = ord_pri_train.loc[ord_pri_train['user_id'].isin(sample_user_id)]\n",
    "sample_eval = orders_train_eval1.loc[orders_train_eval1['user_id'].isin(sample_user_id)]"
   ]
  },
  {
   "cell_type": "markdown",
   "metadata": {},
   "source": [
    "#### Create features"
   ]
  },
  {
   "cell_type": "code",
   "execution_count": null,
   "metadata": {
    "collapsed": true
   },
   "outputs": [],
   "source": [
    "sample = sample.drop('cumsum_days_since_prior_order', axis=1).join(products, on='product_id')\n",
    "sample_eval = sample_eval.drop('days_since_prior_order', axis=1)\n",
    "\n",
    "sample = sample.merge(sample_eval.drop('order_id', axis=1), on='user_id', suffixes=['_trn', '_pred'])"
   ]
  },
  {
   "cell_type": "code",
   "execution_count": null,
   "metadata": {
    "collapsed": true
   },
   "outputs": [],
   "source": [
    "grouped = sample.groupby(['user_id', 'product_id'])\n",
    "grouped__ = sample.groupby(['user_id', 'aisle_id'])\n",
    "grouped_ = sample.groupby(['user_id'])"
   ]
  },
  {
   "cell_type": "code",
   "execution_count": null,
   "metadata": {
    "collapsed": true
   },
   "outputs": [],
   "source": [
    "sample"
   ]
  },
  {
   "cell_type": "code",
   "execution_count": null,
   "metadata": {
    "collapsed": true
   },
   "outputs": [],
   "source": []
  },
  {
   "cell_type": "code",
   "execution_count": null,
   "metadata": {
    "collapsed": true
   },
   "outputs": [],
   "source": [
    "grouped['order_number_trn'].apply(consecutive)"
   ]
  },
  {
   "cell_type": "code",
   "execution_count": null,
   "metadata": {
    "collapsed": true
   },
   "outputs": [],
   "source": [
    "def dow_range(trn, pred):\n",
    "    return abs(trn-pred) if abs(trn-pred)<=3 else 7-abs(trn-pred)\n",
    "\n",
    "def hour_range(trn, pred):\n",
    "    return abs(trn-pred) if abs(trn-pred)<=12 else 24-abs(trn-pred)\n",
    "\n",
    "sample['dow_range'] = sample.apply(lambda x: dow_range(x['order_dow_trn'], x['order_dow_pred']), axis=1)\n",
    "sample['hour_range'] = sample.apply(lambda x: hour_range(x['order_hour_of_day_trn'], x['order_hour_of_day_pred']), axis=1)\n",
    "\n",
    "sample = sample.drop(['order_dow_pred', 'order_hour_of_day_pred'], axis=1)\n",
    "\n",
    "# prod_counts = grouped_.groupby('user_id')['product_id'].value_counts().rename('prod_counts')\n",
    "# dow_range_out = grouped['dow_range'].unique().apply(lambda x: any(a in x for a in [2, 3])).rename('dow_range_out')\n",
    "# hour_range_out = grouped['hour_range'].unique().apply(lambda x: any(a in x for a in range(7, 13))).rename('hour_range_out')\n",
    "\n",
    "# range_out = dow_range_out.to_frame().join(hour_range_out)\n",
    "# range_out['range_out'] = np.where(((range_out['dow_range_out']==False) & (range_out['hour_range_out']==False)), False, True)\n",
    "\n",
    "# temp = prod_counts.to_frame().join(range_out['range_out'])\n",
    "# temp.loc[(temp['prod_counts']!=1) | (temp['range_out']==False), 'keep'] = 1\n",
    "# temp = temp.drop(['prod_counts', 'range_out'], axis=1)\n",
    "\n",
    "# sample = sample.join(temp, on=['user_id', 'product_id']).dropna(subset=['keep']).drop(['keep', 'reordered', 'order_number_pred'], axis=1)\n",
    "# sample = sample.rename(columns={'order_number_trn': 'order_number',\n",
    "#                                'order_dow_trn': 'order_dow',\n",
    "#                                'order_hour_of_day_trn': 'order_hour_of_day'})"
   ]
  },
  {
   "cell_type": "code",
   "execution_count": null,
   "metadata": {
    "collapsed": true
   },
   "outputs": [],
   "source": [
    "def consecutive(data, stepsize=1):\n",
    "    l = np.split(data, np.where(np.diff(data) != stepsize)[0]+1)\n",
    "    l_len = [len(e) for e in l]\n",
    "    return np.median(l_len)"
   ]
  },
  {
   "cell_type": "code",
   "execution_count": null,
   "metadata": {
    "collapsed": true
   },
   "outputs": [],
   "source": [
    "tot_prod_count_by_user = grouped_['product_id'].count().rename('tot_prod_count_by_user')\n",
    "# tot_prod_count_by_user_order_hour = sample.groupby(['user_id', 'order_hour_of_day'])['product_id'].count().rename('tot_prod_count_by_user_order_hour')\n",
    "# tot_prod_count_by_user_order_dow = sample.groupby(['user_id', 'order_dow'])['product_id'].count().rename('tot_prod_count_by_user_order_dow')"
   ]
  },
  {
   "cell_type": "code",
   "execution_count": null,
   "metadata": {
    "collapsed": true
   },
   "outputs": [],
   "source": [
    "# order_ratio_aisle_hour_user = (sample.groupby(['user_id', 'order_hour_of_day', 'aisle_id']).size() / tot_prod_count_by_user).rename('order_ratio_aisle_hour_user')\n",
    "# order_ratio_aisle_dow_user = (sample.groupby(['user_id', 'order_dow', 'aisle_id']).size() / tot_prod_count_by_user).rename('order_ratio_aisle_dow_user')\n",
    "\n",
    "# order_ratio_depart_hour_user = (sample.groupby(['user_id', 'order_hour_of_day', 'department_id']).size() / tot_prod_count_by_user).rename('order_ratio_depart_hour_user')\n",
    "# order_ratio_depart_dow_user = (sample.groupby(['user_id', 'order_dow', 'department_id']).size() / tot_prod_count_by_user).rename('order_ratio_depart_dow_user')"
   ]
  },
  {
   "cell_type": "code",
   "execution_count": null,
   "metadata": {
    "collapsed": true
   },
   "outputs": [],
   "source": [
    "cart_order_by_user = grouped['add_to_cart_order'].mean().rename('cart_order_by_user').astype(np.float32).round(3)\n",
    "cart_order_by_user = cart_order_by_user.apply(lambda x: 1/np.sqrt(x))"
   ]
  },
  {
   "cell_type": "code",
   "execution_count": null,
   "metadata": {
    "collapsed": true
   },
   "outputs": [],
   "source": [
    "last_order_num_user = grouped_['order_number'].max().rename('last_order_num_user')\n",
    "last_order_num_prod = grouped['order_number'].max().rename('last_order_num_prod')\n",
    "\n",
    "last_order_num_by_prod_user = (pd.merge(last_order_num_prod.reset_index(), last_order_num_user.reset_index(), on='user_id')\n",
    "                               .set_index(['user_id', 'product_id']))"
   ]
  },
  {
   "cell_type": "code",
   "execution_count": null,
   "metadata": {
    "collapsed": true
   },
   "outputs": [],
   "source": [
    "prod_count_by_user = grouped['product_id'].count().rename('prod_count_by_user')\n",
    "prod_pct_by_user = (prod_count_by_user / tot_prod_count_by_user).rename('prod_pct_by_user').astype(np.float32).round(3)\n",
    "\n",
    "prod_ratio_by_user = (prod_count_by_user / last_order_num_user).rename('prod_ratio_by_user').astype(np.float32).round(3)\n",
    "\n",
    "consecu_prod_count_by_user = grouped['order_number'].apply(lambda g: consecutive(g))\n",
    "consecu_prod_ratio_by_user = (consecu_prod_count_by_user / last_order_num_user).rename('consecu_prod_ratio_by_user').astype(np.float32).round(3)\n",
    "\n",
    "prod_metrics = pd.concat((prod_pct_by_user, prod_ratio_by_user, consecu_prod_ratio_by_user), axis=1)\n",
    "\n",
    "\n",
    "aisle_num_by_user = grouped__['aisle_id'].count().rename('aisle_num_by_user')\n",
    "aisle_pct_by_user = (aisle_num_by_user / tot_prod_count_by_user).rename('aisle_pct_by_user').astype(np.float32).round(3)\n",
    "\n",
    "aisle_count_by_user = grouped__['order_number'].apply(lambda g: len(np.unique(g)))\n",
    "aisle_ratio_by_user = (aisle_count_by_user / last_order_num_user).rename('aisle_ratio_by_user').astype(np.float32).round(3)\n",
    "\n",
    "consecu_aisle_count_by_user = grouped__['order_number'].apply(lambda g: consecutive(np.unique(g)))\n",
    "consecu_aisle_ratio_by_user = (consecu_aisle_count_by_user / last_order_num_user).rename('consecu_aisle_ratio_by_user').astype(np.float32).round(3)\n",
    "\n",
    "aisle_metrics = pd.concat((aisle_pct_by_user, aisle_ratio_by_user, consecu_aisle_ratio_by_user), axis=1)\n",
    "\n",
    "\n",
    "# depart_num_by_user = sample.groupby(['user_id', 'department_id'])['department_id'].count().rename('depart_num_by_user')\n",
    "# depart_pct_by_user = (depart_num_by_user / tot_prod_count_by_user).rename('depart_pct_by_user').astype(np.float32).round(3)\n",
    "\n",
    "# depart_count_by_user = sample.groupby(['user_id', 'department_id'])['order_number'].apply(lambda g: len(np.unique(g)))\n",
    "# depart_ratio_by_user = (depart_count_by_user / last_order_num_user).rename('depart_ratio_by_user').astype(np.float32).round(3)\n",
    "\n",
    "# consecu_depart_count_by_user = sample.groupby(['user_id', 'department_id'])['order_number'].apply(lambda g: consecutive(np.unique(g)))\n",
    "# consecu_depart_ratio_by_user = (consecu_depart_count_by_user / last_order_num_user).rename('consecu_depart_ratio_by_user').astype(np.float32).round(3)\n",
    "\n",
    "# depart_metrics = pd.concat((depart_pct_by_user, depart_ratio_by_user, consecu_depart_ratio_by_user), axis=1)"
   ]
  },
  {
   "cell_type": "code",
   "execution_count": null,
   "metadata": {
    "collapsed": true,
    "scrolled": true
   },
   "outputs": [],
   "source": [
    "isin_last_order = grouped.apply(lambda g: int(last_order_num_user[g.name[0]] in set(g['order_number']))).rename('isin_last_order')\n",
    "isin_sed_last_order = grouped.apply(lambda g: int(last_order_num_user[g.name[0]]-1 in set(g['order_number']))).rename('isin_sed_last_order')\n",
    "isin_thd_last_order = grouped.apply(lambda g: int(last_order_num_user[g.name[0]]-2 in set(g['order_number']))).rename('isin_thd_last_order')\n",
    "isin_fth_last_order = grouped.apply(lambda g: int(last_order_num_user[g.name[0]]-3 in set(g['order_number']))).rename('isin_fth_last_order')\n",
    "\n",
    "isin_first_order = grouped.apply(lambda g: int(1 in set(g['order_number']))).rename('isin_first_order')\n",
    "isin_sed_order = grouped.apply(lambda g: int(2 in set(g['order_number']))).rename('isin_sed_order')\n",
    "isin_thd_order = grouped.apply(lambda g: int(3 in set(g['order_number']))).rename('isin_thd_order')\n",
    "isin_fth_order = grouped.apply(lambda g: int(4 in set(g['order_number']))).rename('isin_ftht_order')"
   ]
  },
  {
   "cell_type": "code",
   "execution_count": null,
   "metadata": {
    "collapsed": true
   },
   "outputs": [],
   "source": [
    "range_hour_by_prod = grouped.apply(lambda g: np.mean(g['hour_range'])).rename('range_hour_by_prod')\n",
    "range_dow_by_prod = grouped.apply(lambda g: np.mean(g['dow_range'])).rename('range_dow_by_prod')"
   ]
  },
  {
   "cell_type": "code",
   "execution_count": null,
   "metadata": {
    "collapsed": true
   },
   "outputs": [],
   "source": [
    "last_order_num_by_prod_user['last_order_num_prod_diff1'] = last_order_num_by_prod_user['last_order_num_user'] - last_order_num_by_prod_user['last_order_num_prod']\n",
    "last_order_num_by_prod_user['last_order_num_prod_diff2'] = (last_order_num_by_prod_user['last_order_num_prod'] / last_order_num_by_prod_user['last_order_num_user']).round(2)\n",
    "\n",
    "last_order_num_by_prod_user.drop(['last_order_num_prod', 'last_order_num_user'], axis=1, inplace=True)\n",
    "\n",
    "last_order_num_by_prod_user['last_order_num_prod_diff1'] = last_order_num_by_prod_user['last_order_num_prod_diff1'].apply(lambda x: round(1/np.sqrt(x+1), 2))"
   ]
  },
  {
   "cell_type": "code",
   "execution_count": null,
   "metadata": {
    "collapsed": true
   },
   "outputs": [],
   "source": []
  },
  {
   "cell_type": "code",
   "execution_count": null,
   "metadata": {
    "collapsed": true
   },
   "outputs": [],
   "source": [
    "sample_eval = sample_eval.set_index('user_id').drop(['order_id', 'order_number'], axis=1)\n",
    "sample_eval.rename(columns = {'order_dow': 'pred_order_dow', 'order_hour_of_day': 'pred_order_hour_of_day'}, inplace=True)"
   ]
  },
  {
   "cell_type": "code",
   "execution_count": null,
   "metadata": {
    "collapsed": true
   },
   "outputs": [],
   "source": [
    "merged = pd.concat((cart_order_by_user, \n",
    "                    isin_last_order, isin_sed_last_order, isin_thd_last_order, isin_fth_last_order, \n",
    "                    isin_first_order, isin_sed_order, isin_thd_order, isin_fth_order,\n",
    "                    range_hour_by_prod, range_dow_by_prod,\n",
    "                    last_order_num_by_prod_user), axis=1)"
   ]
  },
  {
   "cell_type": "code",
   "execution_count": null,
   "metadata": {
    "collapsed": true
   },
   "outputs": [],
   "source": [
    "merged = merged.join(sample_eval).join(products[['aisle_id']])"
   ]
  },
  {
   "cell_type": "code",
   "execution_count": null,
   "metadata": {
    "collapsed": true
   },
   "outputs": [],
   "source": [
    "order_id_user_map = orders_train_eval1.set_index('order_id')[['user_id']]\n",
    "ord_trn = ord_trn.join(order_id_user_map, on='order_id')\n",
    "ord_trn = ord_trn.set_index(['user_id', 'product_id']).drop('order_id', axis=1).sort_index()\n",
    "ord_trn = ord_trn.loc[ord_trn['reordered']==1]"
   ]
  },
  {
   "cell_type": "code",
   "execution_count": null,
   "metadata": {
    "collapsed": true
   },
   "outputs": [],
   "source": [
    "merged = merged.join(ord_trn)\n",
    "\n",
    "merged.fillna(0, inplace=True)\n",
    "merged['reordered'] = merged['reordered'].astype(np.int32)"
   ]
  },
  {
   "cell_type": "code",
   "execution_count": null,
   "metadata": {
    "collapsed": true
   },
   "outputs": [],
   "source": [
    "merged.reset_index(inplace=True)\n",
    "\n",
    "merged = merged.merge(prod_metrics, how='left', left_on=['user_id', 'product_id'], right_index=True)\n",
    "merged = merged.merge(aisle_metrics, how='left', left_on=['user_id', 'aisle_id'], right_index=True)\n",
    "# merged = merged.merge(depart_metrics, how='left', left_on=['user_id', 'department_id'], right_index=True)\n"
   ]
  },
  {
   "cell_type": "code",
   "execution_count": null,
   "metadata": {
    "collapsed": true
   },
   "outputs": [],
   "source": [
    "user_embeddings = pd.read_csv('./data/stats/user_embeddings_noreg.csv', index_col=0)\n",
    "aisle_embeddings = pd.read_csv('./data/stats/aisle_embeddings_noreg.csv', index_col=0)"
   ]
  },
  {
   "cell_type": "code",
   "execution_count": null,
   "metadata": {
    "collapsed": true
   },
   "outputs": [],
   "source": [
    "# user_embeddings_ = pd.read_csv('./data/stats/user_embeddings_.csv', index_col=0)\n",
    "# dow_embeddings_ = pd.read_csv('./data/stats/dow_embeddings_.csv', index_col=0)\n",
    "# hour_embeddings_ = pd.read_csv('./data/stats/hour_embeddings_.csv', index_col=0)"
   ]
  },
  {
   "cell_type": "code",
   "execution_count": null,
   "metadata": {
    "collapsed": true
   },
   "outputs": [],
   "source": [
    "merged = merged.set_index(['user_id', 'product_id']).join(user_embeddings).join(aisle_embeddings, on='aisle_id', lsuffix='_user', rsuffix='_aisle')"
   ]
  },
  {
   "cell_type": "code",
   "execution_count": null,
   "metadata": {
    "collapsed": true
   },
   "outputs": [],
   "source": [
    "merged"
   ]
  },
  {
   "cell_type": "code",
   "execution_count": null,
   "metadata": {
    "collapsed": true
   },
   "outputs": [],
   "source": [
    "merged['reordered'].mean()"
   ]
  }
 ],
 "metadata": {
  "kernelspec": {
   "display_name": "Python 3",
   "language": "python",
   "name": "python3"
  },
  "language_info": {
   "codemirror_mode": {
    "name": "ipython",
    "version": 3
   },
   "file_extension": ".py",
   "mimetype": "text/x-python",
   "name": "python",
   "nbconvert_exporter": "python",
   "pygments_lexer": "ipython3",
   "version": "3.6.2"
  }
 },
 "nbformat": 4,
 "nbformat_minor": 1
}
